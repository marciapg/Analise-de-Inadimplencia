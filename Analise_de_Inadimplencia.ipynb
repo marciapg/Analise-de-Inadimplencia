{
  "nbformat": 4,
  "nbformat_minor": 0,
  "metadata": {
    "colab": {
      "provenance": [],
      "authorship_tag": "ABX9TyPhRLQrtNpAllFLzIbXEYdm"
    },
    "kernelspec": {
      "name": "python3",
      "display_name": "Python 3"
    },
    "language_info": {
      "name": "python"
    }
  },
  "cells": [
    {
      "cell_type": "markdown",
      "source": [
        "#Análise de inadimplência"
      ],
      "metadata": {
        "id": "Euw8T8FC0_8u"
      }
    },
    {
      "cell_type": "markdown",
      "source": [
        "##Verificação da base de dados"
      ],
      "metadata": {
        "id": "VEF_oKupZNuZ"
      }
    },
    {
      "cell_type": "code",
      "execution_count": 1,
      "metadata": {
        "id": "aEyakPIttbl-"
      },
      "outputs": [],
      "source": [
        "import pandas as pd\n",
        "import matplotlib.pyplot as plt\n",
        "import seaborn as sns\n",
        "import numpy as np\n",
        "import warnings\n",
        "warnings.filterwarnings('ignore', category=np.VisibleDeprecationWarning)"
      ]
    },
    {
      "cell_type": "code",
      "source": [
        "#Importação dos dados\n",
        "data = pd.read_csv('treino.csv')\n",
        "data.shape"
      ],
      "metadata": {
        "colab": {
          "base_uri": "https://localhost:8080/"
        },
        "id": "m9m8rxwwtkCr",
        "outputId": "f261b0c8-8422-4b34-b8d5-7a1129c3a74d"
      },
      "execution_count": 2,
      "outputs": [
        {
          "output_type": "execute_result",
          "data": {
            "text/plain": [
              "(110000, 11)"
            ]
          },
          "metadata": {},
          "execution_count": 2
        }
      ]
    },
    {
      "cell_type": "code",
      "source": [
        "data.head(5)"
      ],
      "metadata": {
        "colab": {
          "base_uri": "https://localhost:8080/",
          "height": 270
        },
        "id": "tw9_1Scst2qO",
        "outputId": "ec5efcd2-4d09-4937-d6f1-c9c45d1ec519"
      },
      "execution_count": 3,
      "outputs": [
        {
          "output_type": "execute_result",
          "data": {
            "text/plain": [
              "   inadimplente  util_linhas_inseguras  idade  vezes_passou_de_30_59_dias  \\\n",
              "0             1               0.766127     45                           2   \n",
              "1             0               0.957151     40                           0   \n",
              "2             0               0.658180     38                           1   \n",
              "3             0               0.233810     30                           0   \n",
              "4             0               0.907239     49                           1   \n",
              "\n",
              "   razao_debito  salario_mensal  numero_linhas_crdto_aberto  \\\n",
              "0      0.802982          9120.0                          13   \n",
              "1      0.121876          2600.0                           4   \n",
              "2      0.085113          3042.0                           2   \n",
              "3      0.036050          3300.0                           5   \n",
              "4      0.024926         63588.0                           7   \n",
              "\n",
              "   numero_vezes_passou_90_dias  numero_emprestimos_imobiliarios  \\\n",
              "0                            0                                6   \n",
              "1                            0                                0   \n",
              "2                            1                                0   \n",
              "3                            0                                0   \n",
              "4                            0                                1   \n",
              "\n",
              "   numero_de_vezes_que_passou_60_89_dias  numero_de_dependentes  \n",
              "0                                      0                    2.0  \n",
              "1                                      0                    1.0  \n",
              "2                                      0                    0.0  \n",
              "3                                      0                    0.0  \n",
              "4                                      0                    0.0  "
            ],
            "text/html": [
              "\n",
              "  <div id=\"df-607c8cf6-738f-41c5-a197-06915d45062e\">\n",
              "    <div class=\"colab-df-container\">\n",
              "      <div>\n",
              "<style scoped>\n",
              "    .dataframe tbody tr th:only-of-type {\n",
              "        vertical-align: middle;\n",
              "    }\n",
              "\n",
              "    .dataframe tbody tr th {\n",
              "        vertical-align: top;\n",
              "    }\n",
              "\n",
              "    .dataframe thead th {\n",
              "        text-align: right;\n",
              "    }\n",
              "</style>\n",
              "<table border=\"1\" class=\"dataframe\">\n",
              "  <thead>\n",
              "    <tr style=\"text-align: right;\">\n",
              "      <th></th>\n",
              "      <th>inadimplente</th>\n",
              "      <th>util_linhas_inseguras</th>\n",
              "      <th>idade</th>\n",
              "      <th>vezes_passou_de_30_59_dias</th>\n",
              "      <th>razao_debito</th>\n",
              "      <th>salario_mensal</th>\n",
              "      <th>numero_linhas_crdto_aberto</th>\n",
              "      <th>numero_vezes_passou_90_dias</th>\n",
              "      <th>numero_emprestimos_imobiliarios</th>\n",
              "      <th>numero_de_vezes_que_passou_60_89_dias</th>\n",
              "      <th>numero_de_dependentes</th>\n",
              "    </tr>\n",
              "  </thead>\n",
              "  <tbody>\n",
              "    <tr>\n",
              "      <th>0</th>\n",
              "      <td>1</td>\n",
              "      <td>0.766127</td>\n",
              "      <td>45</td>\n",
              "      <td>2</td>\n",
              "      <td>0.802982</td>\n",
              "      <td>9120.0</td>\n",
              "      <td>13</td>\n",
              "      <td>0</td>\n",
              "      <td>6</td>\n",
              "      <td>0</td>\n",
              "      <td>2.0</td>\n",
              "    </tr>\n",
              "    <tr>\n",
              "      <th>1</th>\n",
              "      <td>0</td>\n",
              "      <td>0.957151</td>\n",
              "      <td>40</td>\n",
              "      <td>0</td>\n",
              "      <td>0.121876</td>\n",
              "      <td>2600.0</td>\n",
              "      <td>4</td>\n",
              "      <td>0</td>\n",
              "      <td>0</td>\n",
              "      <td>0</td>\n",
              "      <td>1.0</td>\n",
              "    </tr>\n",
              "    <tr>\n",
              "      <th>2</th>\n",
              "      <td>0</td>\n",
              "      <td>0.658180</td>\n",
              "      <td>38</td>\n",
              "      <td>1</td>\n",
              "      <td>0.085113</td>\n",
              "      <td>3042.0</td>\n",
              "      <td>2</td>\n",
              "      <td>1</td>\n",
              "      <td>0</td>\n",
              "      <td>0</td>\n",
              "      <td>0.0</td>\n",
              "    </tr>\n",
              "    <tr>\n",
              "      <th>3</th>\n",
              "      <td>0</td>\n",
              "      <td>0.233810</td>\n",
              "      <td>30</td>\n",
              "      <td>0</td>\n",
              "      <td>0.036050</td>\n",
              "      <td>3300.0</td>\n",
              "      <td>5</td>\n",
              "      <td>0</td>\n",
              "      <td>0</td>\n",
              "      <td>0</td>\n",
              "      <td>0.0</td>\n",
              "    </tr>\n",
              "    <tr>\n",
              "      <th>4</th>\n",
              "      <td>0</td>\n",
              "      <td>0.907239</td>\n",
              "      <td>49</td>\n",
              "      <td>1</td>\n",
              "      <td>0.024926</td>\n",
              "      <td>63588.0</td>\n",
              "      <td>7</td>\n",
              "      <td>0</td>\n",
              "      <td>1</td>\n",
              "      <td>0</td>\n",
              "      <td>0.0</td>\n",
              "    </tr>\n",
              "  </tbody>\n",
              "</table>\n",
              "</div>\n",
              "      <button class=\"colab-df-convert\" onclick=\"convertToInteractive('df-607c8cf6-738f-41c5-a197-06915d45062e')\"\n",
              "              title=\"Convert this dataframe to an interactive table.\"\n",
              "              style=\"display:none;\">\n",
              "        \n",
              "  <svg xmlns=\"http://www.w3.org/2000/svg\" height=\"24px\"viewBox=\"0 0 24 24\"\n",
              "       width=\"24px\">\n",
              "    <path d=\"M0 0h24v24H0V0z\" fill=\"none\"/>\n",
              "    <path d=\"M18.56 5.44l.94 2.06.94-2.06 2.06-.94-2.06-.94-.94-2.06-.94 2.06-2.06.94zm-11 1L8.5 8.5l.94-2.06 2.06-.94-2.06-.94L8.5 2.5l-.94 2.06-2.06.94zm10 10l.94 2.06.94-2.06 2.06-.94-2.06-.94-.94-2.06-.94 2.06-2.06.94z\"/><path d=\"M17.41 7.96l-1.37-1.37c-.4-.4-.92-.59-1.43-.59-.52 0-1.04.2-1.43.59L10.3 9.45l-7.72 7.72c-.78.78-.78 2.05 0 2.83L4 21.41c.39.39.9.59 1.41.59.51 0 1.02-.2 1.41-.59l7.78-7.78 2.81-2.81c.8-.78.8-2.07 0-2.86zM5.41 20L4 18.59l7.72-7.72 1.47 1.35L5.41 20z\"/>\n",
              "  </svg>\n",
              "      </button>\n",
              "      \n",
              "  <style>\n",
              "    .colab-df-container {\n",
              "      display:flex;\n",
              "      flex-wrap:wrap;\n",
              "      gap: 12px;\n",
              "    }\n",
              "\n",
              "    .colab-df-convert {\n",
              "      background-color: #E8F0FE;\n",
              "      border: none;\n",
              "      border-radius: 50%;\n",
              "      cursor: pointer;\n",
              "      display: none;\n",
              "      fill: #1967D2;\n",
              "      height: 32px;\n",
              "      padding: 0 0 0 0;\n",
              "      width: 32px;\n",
              "    }\n",
              "\n",
              "    .colab-df-convert:hover {\n",
              "      background-color: #E2EBFA;\n",
              "      box-shadow: 0px 1px 2px rgba(60, 64, 67, 0.3), 0px 1px 3px 1px rgba(60, 64, 67, 0.15);\n",
              "      fill: #174EA6;\n",
              "    }\n",
              "\n",
              "    [theme=dark] .colab-df-convert {\n",
              "      background-color: #3B4455;\n",
              "      fill: #D2E3FC;\n",
              "    }\n",
              "\n",
              "    [theme=dark] .colab-df-convert:hover {\n",
              "      background-color: #434B5C;\n",
              "      box-shadow: 0px 1px 3px 1px rgba(0, 0, 0, 0.15);\n",
              "      filter: drop-shadow(0px 1px 2px rgba(0, 0, 0, 0.3));\n",
              "      fill: #FFFFFF;\n",
              "    }\n",
              "  </style>\n",
              "\n",
              "      <script>\n",
              "        const buttonEl =\n",
              "          document.querySelector('#df-607c8cf6-738f-41c5-a197-06915d45062e button.colab-df-convert');\n",
              "        buttonEl.style.display =\n",
              "          google.colab.kernel.accessAllowed ? 'block' : 'none';\n",
              "\n",
              "        async function convertToInteractive(key) {\n",
              "          const element = document.querySelector('#df-607c8cf6-738f-41c5-a197-06915d45062e');\n",
              "          const dataTable =\n",
              "            await google.colab.kernel.invokeFunction('convertToInteractive',\n",
              "                                                     [key], {});\n",
              "          if (!dataTable) return;\n",
              "\n",
              "          const docLinkHtml = 'Like what you see? Visit the ' +\n",
              "            '<a target=\"_blank\" href=https://colab.research.google.com/notebooks/data_table.ipynb>data table notebook</a>'\n",
              "            + ' to learn more about interactive tables.';\n",
              "          element.innerHTML = '';\n",
              "          dataTable['output_type'] = 'display_data';\n",
              "          await google.colab.output.renderOutput(dataTable, element);\n",
              "          const docLink = document.createElement('div');\n",
              "          docLink.innerHTML = docLinkHtml;\n",
              "          element.appendChild(docLink);\n",
              "        }\n",
              "      </script>\n",
              "    </div>\n",
              "  </div>\n",
              "  "
            ]
          },
          "metadata": {},
          "execution_count": 3
        }
      ]
    },
    {
      "cell_type": "code",
      "source": [
        "data.columns"
      ],
      "metadata": {
        "colab": {
          "base_uri": "https://localhost:8080/"
        },
        "id": "uwkBEZXru39S",
        "outputId": "76b66b2f-903c-4cba-8181-ef3171d7c2b1"
      },
      "execution_count": 4,
      "outputs": [
        {
          "output_type": "execute_result",
          "data": {
            "text/plain": [
              "Index(['inadimplente', 'util_linhas_inseguras', 'idade',\n",
              "       'vezes_passou_de_30_59_dias', 'razao_debito', 'salario_mensal',\n",
              "       'numero_linhas_crdto_aberto', 'numero_vezes_passou_90_dias',\n",
              "       'numero_emprestimos_imobiliarios',\n",
              "       'numero_de_vezes_que_passou_60_89_dias', 'numero_de_dependentes'],\n",
              "      dtype='object')"
            ]
          },
          "metadata": {},
          "execution_count": 4
        }
      ]
    },
    {
      "cell_type": "code",
      "source": [
        "#Verificação dos tipos dos dados\n",
        "data.dtypes"
      ],
      "metadata": {
        "colab": {
          "base_uri": "https://localhost:8080/"
        },
        "id": "p3UIgLl6vqx7",
        "outputId": "9190283e-c8ec-4c3b-9e5e-153a1f93d56b"
      },
      "execution_count": 5,
      "outputs": [
        {
          "output_type": "execute_result",
          "data": {
            "text/plain": [
              "inadimplente                               int64\n",
              "util_linhas_inseguras                    float64\n",
              "idade                                      int64\n",
              "vezes_passou_de_30_59_dias                 int64\n",
              "razao_debito                             float64\n",
              "salario_mensal                           float64\n",
              "numero_linhas_crdto_aberto                 int64\n",
              "numero_vezes_passou_90_dias                int64\n",
              "numero_emprestimos_imobiliarios            int64\n",
              "numero_de_vezes_que_passou_60_89_dias      int64\n",
              "numero_de_dependentes                    float64\n",
              "dtype: object"
            ]
          },
          "metadata": {},
          "execution_count": 5
        }
      ]
    },
    {
      "cell_type": "code",
      "source": [
        "#Verificar se há dados faltantes\n",
        "for col in data.columns:\n",
        "  print(col, data[col].isnull().sum())"
      ],
      "metadata": {
        "colab": {
          "base_uri": "https://localhost:8080/"
        },
        "id": "y-nFxlAwuN3q",
        "outputId": "8531f279-ace4-4a09-f582-79b1a35e3caf"
      },
      "execution_count": 6,
      "outputs": [
        {
          "output_type": "stream",
          "name": "stdout",
          "text": [
            "inadimplente 0\n",
            "util_linhas_inseguras 0\n",
            "idade 0\n",
            "vezes_passou_de_30_59_dias 0\n",
            "razao_debito 0\n",
            "salario_mensal 21763\n",
            "numero_linhas_crdto_aberto 0\n",
            "numero_vezes_passou_90_dias 0\n",
            "numero_emprestimos_imobiliarios 0\n",
            "numero_de_vezes_que_passou_60_89_dias 0\n",
            "numero_de_dependentes 2878\n"
          ]
        }
      ]
    },
    {
      "cell_type": "code",
      "source": [
        "21763/110000"
      ],
      "metadata": {
        "colab": {
          "base_uri": "https://localhost:8080/"
        },
        "id": "13kMOTRkz3U6",
        "outputId": "89e58598-4f8b-4c6f-82b6-96b1beda195a"
      },
      "execution_count": 7,
      "outputs": [
        {
          "output_type": "execute_result",
          "data": {
            "text/plain": [
              "0.19784545454545455"
            ]
          },
          "metadata": {},
          "execution_count": 7
        }
      ]
    },
    {
      "cell_type": "code",
      "source": [
        "2878/110000"
      ],
      "metadata": {
        "colab": {
          "base_uri": "https://localhost:8080/"
        },
        "id": "6kCeoKRs0ewz",
        "outputId": "3b1b376c-40e8-4103-9f87-f8e4cd8df50f"
      },
      "execution_count": 8,
      "outputs": [
        {
          "output_type": "execute_result",
          "data": {
            "text/plain": [
              "0.026163636363636365"
            ]
          },
          "metadata": {},
          "execution_count": 8
        }
      ]
    },
    {
      "cell_type": "markdown",
      "source": [
        "A porcentagem de dados faltantes na coluna numero_de_dependentes representa aproximadamente 3% das observações. Como mais de 50% das observações tem Zero dependentes, usaremos a mediana para substituir os valores ausentes.\n",
        "\n",
        "A porcentagem de dados faltantes na coluna salario_mensal representa aproximadamente 20% das observações.\n",
        "Há 3 possibilidades:\n",
        "1-Excluir as observações com dados faltantes (nesse caso, a base ficaria com aproximadamento 88mil observações, que ainda é um número alto);\n",
        "2-Excluir a coluna salario_mensal (para isso precisamos verificar a importância que ela teria para explicar a inadimplência);\n",
        "3-Preencher os dados faltante com a mediana dos salários, baseado na sua distribuição. Testaremos as 3 a seguir.\n",
        "\n"
      ],
      "metadata": {
        "id": "dxfRWuXozu5j"
      }
    },
    {
      "cell_type": "code",
      "source": [
        "data.salario_mensal.describe()"
      ],
      "metadata": {
        "colab": {
          "base_uri": "https://localhost:8080/"
        },
        "id": "_SyhkhdDN5fp",
        "outputId": "629876f8-cbe3-4879-ae23-f927003bcdb9"
      },
      "execution_count": 9,
      "outputs": [
        {
          "output_type": "execute_result",
          "data": {
            "text/plain": [
              "count    8.823700e+04\n",
              "mean     6.637411e+03\n",
              "std      1.338395e+04\n",
              "min      0.000000e+00\n",
              "25%      3.400000e+03\n",
              "50%      5.400000e+03\n",
              "75%      8.225000e+03\n",
              "max      3.008750e+06\n",
              "Name: salario_mensal, dtype: float64"
            ]
          },
          "metadata": {},
          "execution_count": 9
        }
      ]
    },
    {
      "cell_type": "code",
      "source": [
        "data[data.salario_mensal<50000]['salario_mensal'].hist(bins=100)"
      ],
      "metadata": {
        "colab": {
          "base_uri": "https://localhost:8080/",
          "height": 284
        },
        "id": "KOe9rWzbN5Y3",
        "outputId": "ca0e19a2-f93e-4f54-e555-44a8efb853eb"
      },
      "execution_count": 10,
      "outputs": [
        {
          "output_type": "execute_result",
          "data": {
            "text/plain": [
              "<matplotlib.axes._subplots.AxesSubplot at 0x7f13f9fd5820>"
            ]
          },
          "metadata": {},
          "execution_count": 10
        },
        {
          "output_type": "display_data",
          "data": {
            "text/plain": [
              "<Figure size 432x288 with 1 Axes>"
            ],
            "image/png": "[encoded data removed]"
          },
          "metadata": {
            "needs_background": "light"
          }
        }
      ]
    },
    {
      "cell_type": "code",
      "source": [
        "data.numero_de_dependentes.describe()"
      ],
      "metadata": {
        "colab": {
          "base_uri": "https://localhost:8080/"
        },
        "id": "GkquhP2PN5TY",
        "outputId": "6e09cd03-2ed4-4551-b6f4-5683cd954be2"
      },
      "execution_count": 11,
      "outputs": [
        {
          "output_type": "execute_result",
          "data": {
            "text/plain": [
              "count    107122.000000\n",
              "mean          0.757482\n",
              "std           1.114670\n",
              "min           0.000000\n",
              "25%           0.000000\n",
              "50%           0.000000\n",
              "75%           1.000000\n",
              "max          20.000000\n",
              "Name: numero_de_dependentes, dtype: float64"
            ]
          },
          "metadata": {},
          "execution_count": 11
        }
      ]
    },
    {
      "cell_type": "code",
      "source": [
        "data.numero_de_dependentes.hist(bins=100)"
      ],
      "metadata": {
        "colab": {
          "base_uri": "https://localhost:8080/",
          "height": 0
        },
        "id": "X5wU-jEvN5Ff",
        "outputId": "8c5e6abb-ad88-4dcd-ecf6-10c9f30c090d"
      },
      "execution_count": 12,
      "outputs": [
        {
          "output_type": "execute_result",
          "data": {
            "text/plain": [
              "<matplotlib.axes._subplots.AxesSubplot at 0x7f13f9da0bb0>"
            ]
          },
          "metadata": {},
          "execution_count": 12
        },
        {
          "output_type": "display_data",
          "data": {
            "text/plain": [
              "<Figure size 432x288 with 1 Axes>"
            ],
            "image/png": "[encoded data removed]"
          },
          "metadata": {
            "needs_background": "light"
          }
        }
      ]
    },
    {
      "cell_type": "code",
      "source": [
        "data.numero_de_dependentes = data.numero_de_dependentes.fillna(\n",
        "                                    data.numero_de_dependentes.median())"
      ],
      "metadata": {
        "id": "E-dgHPCoQS-y"
      },
      "execution_count": 13,
      "outputs": []
    },
    {
      "cell_type": "markdown",
      "source": [
        "##Análise 1: Exclusão de observações com dados faltantes da coluna salario_mensal"
      ],
      "metadata": {
        "id": "ky9hmcoO1ImN"
      }
    },
    {
      "cell_type": "markdown",
      "source": [
        "###Verificação dos dados"
      ],
      "metadata": {
        "id": "QPJ2f2TnZnmZ"
      }
    },
    {
      "cell_type": "code",
      "source": [
        "#Excluir dados faltantes\n",
        "data1 = data.copy().dropna()\n",
        "data1.shape"
      ],
      "metadata": {
        "colab": {
          "base_uri": "https://localhost:8080/"
        },
        "id": "rTNV7F6TZN2r",
        "outputId": "815d63c2-cfa3-4709-93f8-1636d3042a46"
      },
      "execution_count": 14,
      "outputs": [
        {
          "output_type": "execute_result",
          "data": {
            "text/plain": [
              "(88237, 11)"
            ]
          },
          "metadata": {},
          "execution_count": 14
        }
      ]
    },
    {
      "cell_type": "code",
      "source": [
        "#Verificar se há dados faltantes\n",
        "for col in data1.columns:\n",
        "  print(col, data1[col].isnull().sum())"
      ],
      "metadata": {
        "colab": {
          "base_uri": "https://localhost:8080/"
        },
        "id": "v61Vku8PZvDV",
        "outputId": "c1a06bcb-bfe7-49ab-cdfd-596454d3928b"
      },
      "execution_count": 15,
      "outputs": [
        {
          "output_type": "stream",
          "name": "stdout",
          "text": [
            "inadimplente 0\n",
            "util_linhas_inseguras 0\n",
            "idade 0\n",
            "vezes_passou_de_30_59_dias 0\n",
            "razao_debito 0\n",
            "salario_mensal 0\n",
            "numero_linhas_crdto_aberto 0\n",
            "numero_vezes_passou_90_dias 0\n",
            "numero_emprestimos_imobiliarios 0\n",
            "numero_de_vezes_que_passou_60_89_dias 0\n",
            "numero_de_dependentes 0\n"
          ]
        }
      ]
    },
    {
      "cell_type": "code",
      "source": [
        "#Verificar se a base é balanceada\n",
        "data1.inadimplente.value_counts()"
      ],
      "metadata": {
        "colab": {
          "base_uri": "https://localhost:8080/"
        },
        "id": "65V7q90XHxUe",
        "outputId": "53c95d2b-b257-44db-cb9f-105019ff0e1a"
      },
      "execution_count": 16,
      "outputs": [
        {
          "output_type": "execute_result",
          "data": {
            "text/plain": [
              "0    82153\n",
              "1     6084\n",
              "Name: inadimplente, dtype: int64"
            ]
          },
          "metadata": {},
          "execution_count": 16
        }
      ]
    },
    {
      "cell_type": "code",
      "source": [
        "data1.inadimplente.value_counts()[1]/data1.shape[0]"
      ],
      "metadata": {
        "colab": {
          "base_uri": "https://localhost:8080/"
        },
        "id": "MK9oCqCDHyjm",
        "outputId": "68fcf4b5-8a1b-42bf-a470-f14d31596317"
      },
      "execution_count": 17,
      "outputs": [
        {
          "output_type": "execute_result",
          "data": {
            "text/plain": [
              "0.06895066695377222"
            ]
          },
          "metadata": {},
          "execution_count": 17
        }
      ]
    },
    {
      "cell_type": "markdown",
      "source": [
        "A base não é balanceada, pois a quantidade de observações inadimplentes representam apenas 7% do total, aproximadamente. Será preciso balancear a base para construir um modelo de predição."
      ],
      "metadata": {
        "id": "oKOrfcsT13ke"
      }
    },
    {
      "cell_type": "markdown",
      "source": [
        "###Verificação dos dados por coluna"
      ],
      "metadata": {
        "id": "AcVDaYkpWULF"
      }
    },
    {
      "cell_type": "code",
      "source": [
        "#Verificar os resumos das variáveis\n",
        "for i in data1.columns:\n",
        "  print(data1[i].describe())"
      ],
      "metadata": {
        "colab": {
          "base_uri": "https://localhost:8080/"
        },
        "id": "mPbM6e442f2A",
        "outputId": "149af7f7-302b-41e0-bf1e-793aefb973e7"
      },
      "execution_count": 18,
      "outputs": [
        {
          "output_type": "stream",
          "name": "stdout",
          "text": [
            "count    88237.000000\n",
            "mean         0.068951\n",
            "std          0.253372\n",
            "min          0.000000\n",
            "25%          0.000000\n",
            "50%          0.000000\n",
            "75%          0.000000\n",
            "max          1.000000\n",
            "Name: inadimplente, dtype: float64\n",
            "count    88237.000000\n",
            "mean         5.855376\n",
            "std        260.699437\n",
            "min          0.000000\n",
            "25%          0.035312\n",
            "50%          0.178883\n",
            "75%          0.582609\n",
            "max      50708.000000\n",
            "Name: util_linhas_inseguras, dtype: float64\n",
            "count    88237.000000\n",
            "mean        51.248320\n",
            "std         14.413576\n",
            "min          0.000000\n",
            "25%         40.000000\n",
            "50%         51.000000\n",
            "75%         61.000000\n",
            "max        103.000000\n",
            "Name: idade, dtype: float64\n",
            "count    88237.000000\n",
            "mean         0.387491\n",
            "std          3.596258\n",
            "min          0.000000\n",
            "25%          0.000000\n",
            "50%          0.000000\n",
            "75%          0.000000\n",
            "max         98.000000\n",
            "Name: vezes_passou_de_30_59_dias, dtype: float64\n",
            "count    88237.000000\n",
            "mean        26.827167\n",
            "std        389.682244\n",
            "min          0.000000\n",
            "25%          0.143494\n",
            "50%          0.296660\n",
            "75%          0.482688\n",
            "max      61106.500000\n",
            "Name: razao_debito, dtype: float64\n",
            "count    8.823700e+04\n",
            "mean     6.637411e+03\n",
            "std      1.338395e+04\n",
            "min      0.000000e+00\n",
            "25%      3.400000e+03\n",
            "50%      5.400000e+03\n",
            "75%      8.225000e+03\n",
            "max      3.008750e+06\n",
            "Name: salario_mensal, dtype: float64\n",
            "count    88237.000000\n",
            "mean         8.755352\n",
            "std          5.165944\n",
            "min          0.000000\n",
            "25%          5.000000\n",
            "50%          8.000000\n",
            "75%         11.000000\n",
            "max         58.000000\n",
            "Name: numero_linhas_crdto_aberto, dtype: float64\n",
            "count    88237.000000\n",
            "mean         0.218593\n",
            "std          3.563087\n",
            "min          0.000000\n",
            "25%          0.000000\n",
            "50%          0.000000\n",
            "75%          0.000000\n",
            "max         98.000000\n",
            "Name: numero_vezes_passou_90_dias, dtype: float64\n",
            "count    88237.000000\n",
            "mean         1.055884\n",
            "std          1.156483\n",
            "min          0.000000\n",
            "25%          0.000000\n",
            "50%          1.000000\n",
            "75%          2.000000\n",
            "max         54.000000\n",
            "Name: numero_emprestimos_imobiliarios, dtype: float64\n",
            "count    88237.000000\n",
            "mean         0.194125\n",
            "std          3.547147\n",
            "min          0.000000\n",
            "25%          0.000000\n",
            "50%          0.000000\n",
            "75%          0.000000\n",
            "max         98.000000\n",
            "Name: numero_de_vezes_que_passou_60_89_dias, dtype: float64\n",
            "count    88237.000000\n",
            "mean         0.851910\n",
            "std          1.147779\n",
            "min          0.000000\n",
            "25%          0.000000\n",
            "50%          0.000000\n",
            "75%          2.000000\n",
            "max         20.000000\n",
            "Name: numero_de_dependentes, dtype: float64\n"
          ]
        }
      ]
    },
    {
      "cell_type": "markdown",
      "source": [
        "Pelo resumo, é possível perceber que existem muitos outliers, que deverão ser analisados. Mas, principalmente, vemos que, na coluna idade, temos um valor igual a zero. Nesse caso, já iremos excluir essa observação."
      ],
      "metadata": {
        "id": "p-yVHRh82tmL"
      }
    },
    {
      "cell_type": "code",
      "source": [
        "data1[data1.idade < 18].count()[0]"
      ],
      "metadata": {
        "colab": {
          "base_uri": "https://localhost:8080/"
        },
        "id": "J7JZtnkY3A7G",
        "outputId": "1e47c61b-27ab-4848-b299-d9661570db4b"
      },
      "execution_count": 19,
      "outputs": [
        {
          "output_type": "execute_result",
          "data": {
            "text/plain": [
              "1"
            ]
          },
          "metadata": {},
          "execution_count": 19
        }
      ]
    },
    {
      "cell_type": "code",
      "source": [
        "data1[data1.idade < 18]"
      ],
      "metadata": {
        "colab": {
          "base_uri": "https://localhost:8080/",
          "height": 145
        },
        "id": "OyqnyKze3Ids",
        "outputId": "dce2e95e-aaa1-4a25-9874-931b42910dfa"
      },
      "execution_count": 20,
      "outputs": [
        {
          "output_type": "execute_result",
          "data": {
            "text/plain": [
              "       inadimplente  util_linhas_inseguras  idade  vezes_passou_de_30_59_dias  \\\n",
              "65695             0                    1.0      0                           1   \n",
              "\n",
              "       razao_debito  salario_mensal  numero_linhas_crdto_aberto  \\\n",
              "65695      0.436927          6000.0                           6   \n",
              "\n",
              "       numero_vezes_passou_90_dias  numero_emprestimos_imobiliarios  \\\n",
              "65695                            0                                2   \n",
              "\n",
              "       numero_de_vezes_que_passou_60_89_dias  numero_de_dependentes  \n",
              "65695                                      0                    2.0  "
            ],
            "text/html": [
              "\n",
              "  <div id=\"df-52b29615-3c7c-4de5-a100-3403d37c067b\">\n",
              "    <div class=\"colab-df-container\">\n",
              "      <div>\n",
              "<style scoped>\n",
              "    .dataframe tbody tr th:only-of-type {\n",
              "        vertical-align: middle;\n",
              "    }\n",
              "\n",
              "    .dataframe tbody tr th {\n",
              "        vertical-align: top;\n",
              "    }\n",
              "\n",
              "    .dataframe thead th {\n",
              "        text-align: right;\n",
              "    }\n",
              "</style>\n",
              "<table border=\"1\" class=\"dataframe\">\n",
              "  <thead>\n",
              "    <tr style=\"text-align: right;\">\n",
              "      <th></th>\n",
              "      <th>inadimplente</th>\n",
              "      <th>util_linhas_inseguras</th>\n",
              "      <th>idade</th>\n",
              "      <th>vezes_passou_de_30_59_dias</th>\n",
              "      <th>razao_debito</th>\n",
              "      <th>salario_mensal</th>\n",
              "      <th>numero_linhas_crdto_aberto</th>\n",
              "      <th>numero_vezes_passou_90_dias</th>\n",
              "      <th>numero_emprestimos_imobiliarios</th>\n",
              "      <th>numero_de_vezes_que_passou_60_89_dias</th>\n",
              "      <th>numero_de_dependentes</th>\n",
              "    </tr>\n",
              "  </thead>\n",
              "  <tbody>\n",
              "    <tr>\n",
              "      <th>65695</th>\n",
              "      <td>0</td>\n",
              "      <td>1.0</td>\n",
              "      <td>0</td>\n",
              "      <td>1</td>\n",
              "      <td>0.436927</td>\n",
              "      <td>6000.0</td>\n",
              "      <td>6</td>\n",
              "      <td>0</td>\n",
              "      <td>2</td>\n",
              "      <td>0</td>\n",
              "      <td>2.0</td>\n",
              "    </tr>\n",
              "  </tbody>\n",
              "</table>\n",
              "</div>\n",
              "      <button class=\"colab-df-convert\" onclick=\"convertToInteractive('df-52b29615-3c7c-4de5-a100-3403d37c067b')\"\n",
              "              title=\"Convert this dataframe to an interactive table.\"\n",
              "              style=\"display:none;\">\n",
              "        \n",
              "  <svg xmlns=\"http://www.w3.org/2000/svg\" height=\"24px\"viewBox=\"0 0 24 24\"\n",
              "       width=\"24px\">\n",
              "    <path d=\"M0 0h24v24H0V0z\" fill=\"none\"/>\n",
              "    <path d=\"M18.56 5.44l.94 2.06.94-2.06 2.06-.94-2.06-.94-.94-2.06-.94 2.06-2.06.94zm-11 1L8.5 8.5l.94-2.06 2.06-.94-2.06-.94L8.5 2.5l-.94 2.06-2.06.94zm10 10l.94 2.06.94-2.06 2.06-.94-2.06-.94-.94-2.06-.94 2.06-2.06.94z\"/><path d=\"M17.41 7.96l-1.37-1.37c-.4-.4-.92-.59-1.43-.59-.52 0-1.04.2-1.43.59L10.3 9.45l-7.72 7.72c-.78.78-.78 2.05 0 2.83L4 21.41c.39.39.9.59 1.41.59.51 0 1.02-.2 1.41-.59l7.78-7.78 2.81-2.81c.8-.78.8-2.07 0-2.86zM5.41 20L4 18.59l7.72-7.72 1.47 1.35L5.41 20z\"/>\n",
              "  </svg>\n",
              "      </button>\n",
              "      \n",
              "  <style>\n",
              "    .colab-df-container {\n",
              "      display:flex;\n",
              "      flex-wrap:wrap;\n",
              "      gap: 12px;\n",
              "    }\n",
              "\n",
              "    .colab-df-convert {\n",
              "      background-color: #E8F0FE;\n",
              "      border: none;\n",
              "      border-radius: 50%;\n",
              "      cursor: pointer;\n",
              "      display: none;\n",
              "      fill: #1967D2;\n",
              "      height: 32px;\n",
              "      padding: 0 0 0 0;\n",
              "      width: 32px;\n",
              "    }\n",
              "\n",
              "    .colab-df-convert:hover {\n",
              "      background-color: #E2EBFA;\n",
              "      box-shadow: 0px 1px 2px rgba(60, 64, 67, 0.3), 0px 1px 3px 1px rgba(60, 64, 67, 0.15);\n",
              "      fill: #174EA6;\n",
              "    }\n",
              "\n",
              "    [theme=dark] .colab-df-convert {\n",
              "      background-color: #3B4455;\n",
              "      fill: #D2E3FC;\n",
              "    }\n",
              "\n",
              "    [theme=dark] .colab-df-convert:hover {\n",
              "      background-color: #434B5C;\n",
              "      box-shadow: 0px 1px 3px 1px rgba(0, 0, 0, 0.15);\n",
              "      filter: drop-shadow(0px 1px 2px rgba(0, 0, 0, 0.3));\n",
              "      fill: #FFFFFF;\n",
              "    }\n",
              "  </style>\n",
              "\n",
              "      <script>\n",
              "        const buttonEl =\n",
              "          document.querySelector('#df-52b29615-3c7c-4de5-a100-3403d37c067b button.colab-df-convert');\n",
              "        buttonEl.style.display =\n",
              "          google.colab.kernel.accessAllowed ? 'block' : 'none';\n",
              "\n",
              "        async function convertToInteractive(key) {\n",
              "          const element = document.querySelector('#df-52b29615-3c7c-4de5-a100-3403d37c067b');\n",
              "          const dataTable =\n",
              "            await google.colab.kernel.invokeFunction('convertToInteractive',\n",
              "                                                     [key], {});\n",
              "          if (!dataTable) return;\n",
              "\n",
              "          const docLinkHtml = 'Like what you see? Visit the ' +\n",
              "            '<a target=\"_blank\" href=https://colab.research.google.com/notebooks/data_table.ipynb>data table notebook</a>'\n",
              "            + ' to learn more about interactive tables.';\n",
              "          element.innerHTML = '';\n",
              "          dataTable['output_type'] = 'display_data';\n",
              "          await google.colab.output.renderOutput(dataTable, element);\n",
              "          const docLink = document.createElement('div');\n",
              "          docLink.innerHTML = docLinkHtml;\n",
              "          element.appendChild(docLink);\n",
              "        }\n",
              "      </script>\n",
              "    </div>\n",
              "  </div>\n",
              "  "
            ]
          },
          "metadata": {},
          "execution_count": 20
        }
      ]
    },
    {
      "cell_type": "code",
      "source": [
        "data1.drop(index = 65695, inplace = True)"
      ],
      "metadata": {
        "id": "SFdPb-VF3OVl"
      },
      "execution_count": 21,
      "outputs": []
    },
    {
      "cell_type": "code",
      "source": [
        "data1.shape"
      ],
      "metadata": {
        "colab": {
          "base_uri": "https://localhost:8080/"
        },
        "id": "tvQnEeEu3W7U",
        "outputId": "1cc10688-4450-488b-8f47-18569a0b79ac"
      },
      "execution_count": 22,
      "outputs": [
        {
          "output_type": "execute_result",
          "data": {
            "text/plain": [
              "(88236, 11)"
            ]
          },
          "metadata": {},
          "execution_count": 22
        }
      ]
    },
    {
      "cell_type": "code",
      "source": [
        "#Separar df apenas com inadimplentes, para verificação da base\n",
        "inad1 = data1[data1.inadimplente == 1]\n",
        "inad1.shape"
      ],
      "metadata": {
        "colab": {
          "base_uri": "https://localhost:8080/"
        },
        "id": "jwvBOh4x3geb",
        "outputId": "a7d1275b-ad9f-4aa9-d62d-bca7c5e39f11"
      },
      "execution_count": 23,
      "outputs": [
        {
          "output_type": "execute_result",
          "data": {
            "text/plain": [
              "(6084, 11)"
            ]
          },
          "metadata": {},
          "execution_count": 23
        }
      ]
    },
    {
      "cell_type": "markdown",
      "source": [
        "####Gráficos"
      ],
      "metadata": {
        "id": "4Z7SfQFWKbcn"
      }
    },
    {
      "cell_type": "code",
      "source": [
        "#Boxplots\n",
        "fig, axs = plt.subplots(3,4,figsize= (12,8))\n",
        "fig.tight_layout(pad=3.0)\n",
        "colunas = list(data1.columns)\n",
        "colunas.append('inadimplente')\n",
        "for i in range(3):\n",
        "  for j in range(4):\n",
        "    axs[i][j].boxplot(x = [data1[colunas[i*4+j]], inad1[colunas[i*4+j]]])\n",
        "    axs[i][j].set_title(colunas[i*4+j])"
      ],
      "metadata": {
        "colab": {
          "base_uri": "https://localhost:8080/",
          "height": 559
        },
        "id": "ETBBiAZf5NIr",
        "outputId": "21ec9f04-ad27-4bb0-8723-fccfc00c802b"
      },
      "execution_count": 24,
      "outputs": [
        {
          "output_type": "display_data",
          "data": {
            "text/plain": [
              "<Figure size 864x576 with 12 Axes>"
            ],
            "image/png": "[encoded data removed]"
          },
          "metadata": {
            "needs_background": "light"
          }
        }
      ]
    },
    {
      "cell_type": "code",
      "source": [
        "#Histogramas\n",
        "fig, axs = plt.subplots(3,4,figsize= (12,8))\n",
        "fig.tight_layout(pad=3.0)\n",
        "colunas = list(data1.columns)\n",
        "colunas.append('inadimplente')\n",
        "for i in range(3):\n",
        "  for j in range(4):\n",
        "    axs[i][j].hist(x = [data1[colunas[i*4+j]], inad1[colunas[i*4+j]]], \n",
        "                            bins = 30, density=True)\n",
        "    axs[i][j].set_title(colunas[i*4+j])"
      ],
      "metadata": {
        "colab": {
          "base_uri": "https://localhost:8080/",
          "height": 559
        },
        "id": "q5naj2pS4ECc",
        "outputId": "9f6c507d-4d14-4dbb-dd96-3402503f6dee"
      },
      "execution_count": 25,
      "outputs": [
        {
          "output_type": "display_data",
          "data": {
            "text/plain": [
              "<Figure size 864x576 with 12 Axes>"
            ],
            "image/png": "[encoded data removed]"
          },
          "metadata": {
            "needs_background": "light"
          }
        }
      ]
    },
    {
      "cell_type": "markdown",
      "source": [
        "Pelos boxplots e histogramas, percebemos, que as distribuições das variáveis, considerando as observações inadimplentes são bastante similares às distribuições considerando o total das observações, inclusive na proporção de outliers, portanto não excluiremos mais nada."
      ],
      "metadata": {
        "id": "ztyN0adR5yRA"
      }
    },
    {
      "cell_type": "markdown",
      "source": [
        "###Correlação"
      ],
      "metadata": {
        "id": "klFhdwZsWcgX"
      }
    },
    {
      "cell_type": "code",
      "source": [
        "#Dispersão\n",
        "fig, axs = plt.subplots(3,4,figsize= (12,8))\n",
        "fig.tight_layout(pad=3.0)\n",
        "colunas = list(data1.columns)\n",
        "colunas.append('inadimplente')\n",
        "for i in range(3):\n",
        "  for j in range(4):\n",
        "    axs[i][j].scatter(data1['inadimplente'],data1[colunas[i*4+j]])\n",
        "    b, a = np.polyfit(data1['inadimplente'],data1[colunas[i*4+j]], deg=1)\n",
        "    xseq = np.linspace(0, 1, num=100)\n",
        "    axs[i][j].plot(xseq, a + b * xseq, color=\"k\", lw=0.5);\n",
        "    axs[i][j].set_title(colunas[i*4+j])"
      ],
      "metadata": {
        "colab": {
          "base_uri": "https://localhost:8080/",
          "height": 559
        },
        "id": "AQempuenO5pl",
        "outputId": "dfcdddfb-568d-49ad-e57f-f7cba1e25af2"
      },
      "execution_count": 26,
      "outputs": [
        {
          "output_type": "display_data",
          "data": {
            "text/plain": [
              "<Figure size 864x576 with 12 Axes>"
            ],
            "image/png": "[encoded data removed]"
          },
          "metadata": {
            "needs_background": "light"
          }
        }
      ]
    },
    {
      "cell_type": "code",
      "source": [
        "#Correlação  \n",
        "plt.figure(figsize=(10,10))\n",
        "sns.heatmap(data1.corr(), annot=True)\n",
        "plt.show()"
      ],
      "metadata": {
        "colab": {
          "base_uri": "https://localhost:8080/",
          "height": 800
        },
        "id": "LiTH0uvAP92N",
        "outputId": "ab36cea8-93f5-4108-b0c6-2a86287f7772"
      },
      "execution_count": 27,
      "outputs": [
        {
          "output_type": "display_data",
          "data": {
            "text/plain": [
              "<Figure size 720x720 with 2 Axes>"
            ],
            "image/png": "[encoded data removed]"
          },
          "metadata": {
            "needs_background": "light"
          }
        }
      ]
    },
    {
      "cell_type": "markdown",
      "source": [
        "###Modelo"
      ],
      "metadata": {
        "id": "DyS-NhRbSyUZ"
      }
    },
    {
      "cell_type": "markdown",
      "source": [
        "####Balaceamento das observações: Reduzir as observações de adimplentes de forma aleatória"
      ],
      "metadata": {
        "id": "etFYZS1NTeLf"
      }
    },
    {
      "cell_type": "code",
      "source": [
        "data1.inadimplente.value_counts()"
      ],
      "metadata": {
        "colab": {
          "base_uri": "https://localhost:8080/"
        },
        "id": "EyAY9w16TZkB",
        "outputId": "ef0bae79-a996-4549-9249-d949febcfb3b"
      },
      "execution_count": 28,
      "outputs": [
        {
          "output_type": "execute_result",
          "data": {
            "text/plain": [
              "0    82152\n",
              "1     6084\n",
              "Name: inadimplente, dtype: int64"
            ]
          },
          "metadata": {},
          "execution_count": 28
        }
      ]
    },
    {
      "cell_type": "code",
      "source": [
        "#Reduzir as observações de adimplentes de forma aleatória\n",
        "df1_class_0 = data1[data1['inadimplente'] == 0]\n",
        "df1_class_1 = data1[data1['inadimplente'] == 1]\n",
        "df1_class_0_under = df1_class_0.sample(6084)\n",
        "df1_test_under = pd.concat([df1_class_0_under, df1_class_1], axis=0)"
      ],
      "metadata": {
        "id": "GRhFeyLiTjvg"
      },
      "execution_count": 29,
      "outputs": []
    },
    {
      "cell_type": "code",
      "source": [
        "df1_test_under.shape"
      ],
      "metadata": {
        "colab": {
          "base_uri": "https://localhost:8080/"
        },
        "id": "7qkE59rUWsvE",
        "outputId": "0afbafe8-a97a-4031-c768-53bc04cbcea8"
      },
      "execution_count": 30,
      "outputs": [
        {
          "output_type": "execute_result",
          "data": {
            "text/plain": [
              "(12168, 11)"
            ]
          },
          "metadata": {},
          "execution_count": 30
        }
      ]
    },
    {
      "cell_type": "markdown",
      "source": [
        "###Normalização dos dados"
      ],
      "metadata": {
        "id": "it-sfJIiUcVF"
      }
    },
    {
      "cell_type": "code",
      "source": [
        "from sklearn.preprocessing import MinMaxScaler\n",
        "norm = MinMaxScaler()\n",
        "dtnorm1 = norm.fit_transform(df1_test_under)\n",
        "datanorm1 = pd.DataFrame(dtnorm1, columns = df1_test_under.columns)"
      ],
      "metadata": {
        "id": "F3xiTprSRXgd"
      },
      "execution_count": 31,
      "outputs": []
    },
    {
      "cell_type": "code",
      "source": [
        "datanorm1.head(3)"
      ],
      "metadata": {
        "colab": {
          "base_uri": "https://localhost:8080/",
          "height": 207
        },
        "id": "rNHnEuCPWzH7",
        "outputId": "dc25546a-00c2-4e49-f176-6d8b62e43769"
      },
      "execution_count": 32,
      "outputs": [
        {
          "output_type": "execute_result",
          "data": {
            "text/plain": [
              "   inadimplente  util_linhas_inseguras     idade  vezes_passou_de_30_59_dias  \\\n",
              "0           0.0               0.000009  0.432099                         0.0   \n",
              "1           0.0               0.000002  0.604938                         0.0   \n",
              "2           0.0               0.000006  0.641975                         0.0   \n",
              "\n",
              "   razao_debito  salario_mensal  numero_linhas_crdto_aberto  \\\n",
              "0  1.414398e-05        0.036275                    0.230769   \n",
              "1  4.309150e-07        0.030256                    0.153846   \n",
              "2  1.055513e-05        0.077007                    0.423077   \n",
              "\n",
              "   numero_vezes_passou_90_dias  numero_emprestimos_imobiliarios  \\\n",
              "0                          0.0                         0.034483   \n",
              "1                          0.0                         0.000000   \n",
              "2                          0.0                         0.068966   \n",
              "\n",
              "   numero_de_vezes_que_passou_60_89_dias  numero_de_dependentes  \n",
              "0                                    0.0                    0.0  \n",
              "1                                    0.0                    0.0  \n",
              "2                                    0.0                    0.0  "
            ],
            "text/html": [
              "\n",
              "  <div id=\"df-fa73a631-10df-40da-a2ac-853bc69ae437\">\n",
              "    <div class=\"colab-df-container\">\n",
              "      <div>\n",
              "<style scoped>\n",
              "    .dataframe tbody tr th:only-of-type {\n",
              "        vertical-align: middle;\n",
              "    }\n",
              "\n",
              "    .dataframe tbody tr th {\n",
              "        vertical-align: top;\n",
              "    }\n",
              "\n",
              "    .dataframe thead th {\n",
              "        text-align: right;\n",
              "    }\n",
              "</style>\n",
              "<table border=\"1\" class=\"dataframe\">\n",
              "  <thead>\n",
              "    <tr style=\"text-align: right;\">\n",
              "      <th></th>\n",
              "      <th>inadimplente</th>\n",
              "      <th>util_linhas_inseguras</th>\n",
              "      <th>idade</th>\n",
              "      <th>vezes_passou_de_30_59_dias</th>\n",
              "      <th>razao_debito</th>\n",
              "      <th>salario_mensal</th>\n",
              "      <th>numero_linhas_crdto_aberto</th>\n",
              "      <th>numero_vezes_passou_90_dias</th>\n",
              "      <th>numero_emprestimos_imobiliarios</th>\n",
              "      <th>numero_de_vezes_que_passou_60_89_dias</th>\n",
              "      <th>numero_de_dependentes</th>\n",
              "    </tr>\n",
              "  </thead>\n",
              "  <tbody>\n",
              "    <tr>\n",
              "      <th>0</th>\n",
              "      <td>0.0</td>\n",
              "      <td>0.000009</td>\n",
              "      <td>0.432099</td>\n",
              "      <td>0.0</td>\n",
              "      <td>1.414398e-05</td>\n",
              "      <td>0.036275</td>\n",
              "      <td>0.230769</td>\n",
              "      <td>0.0</td>\n",
              "      <td>0.034483</td>\n",
              "      <td>0.0</td>\n",
              "      <td>0.0</td>\n",
              "    </tr>\n",
              "    <tr>\n",
              "      <th>1</th>\n",
              "      <td>0.0</td>\n",
              "      <td>0.000002</td>\n",
              "      <td>0.604938</td>\n",
              "      <td>0.0</td>\n",
              "      <td>4.309150e-07</td>\n",
              "      <td>0.030256</td>\n",
              "      <td>0.153846</td>\n",
              "      <td>0.0</td>\n",
              "      <td>0.000000</td>\n",
              "      <td>0.0</td>\n",
              "      <td>0.0</td>\n",
              "    </tr>\n",
              "    <tr>\n",
              "      <th>2</th>\n",
              "      <td>0.0</td>\n",
              "      <td>0.000006</td>\n",
              "      <td>0.641975</td>\n",
              "      <td>0.0</td>\n",
              "      <td>1.055513e-05</td>\n",
              "      <td>0.077007</td>\n",
              "      <td>0.423077</td>\n",
              "      <td>0.0</td>\n",
              "      <td>0.068966</td>\n",
              "      <td>0.0</td>\n",
              "      <td>0.0</td>\n",
              "    </tr>\n",
              "  </tbody>\n",
              "</table>\n",
              "</div>\n",
              "      <button class=\"colab-df-convert\" onclick=\"convertToInteractive('df-fa73a631-10df-40da-a2ac-853bc69ae437')\"\n",
              "              title=\"Convert this dataframe to an interactive table.\"\n",
              "              style=\"display:none;\">\n",
              "        \n",
              "  <svg xmlns=\"http://www.w3.org/2000/svg\" height=\"24px\"viewBox=\"0 0 24 24\"\n",
              "       width=\"24px\">\n",
              "    <path d=\"M0 0h24v24H0V0z\" fill=\"none\"/>\n",
              "    <path d=\"M18.56 5.44l.94 2.06.94-2.06 2.06-.94-2.06-.94-.94-2.06-.94 2.06-2.06.94zm-11 1L8.5 8.5l.94-2.06 2.06-.94-2.06-.94L8.5 2.5l-.94 2.06-2.06.94zm10 10l.94 2.06.94-2.06 2.06-.94-2.06-.94-.94-2.06-.94 2.06-2.06.94z\"/><path d=\"M17.41 7.96l-1.37-1.37c-.4-.4-.92-.59-1.43-.59-.52 0-1.04.2-1.43.59L10.3 9.45l-7.72 7.72c-.78.78-.78 2.05 0 2.83L4 21.41c.39.39.9.59 1.41.59.51 0 1.02-.2 1.41-.59l7.78-7.78 2.81-2.81c.8-.78.8-2.07 0-2.86zM5.41 20L4 18.59l7.72-7.72 1.47 1.35L5.41 20z\"/>\n",
              "  </svg>\n",
              "      </button>\n",
              "      \n",
              "  <style>\n",
              "    .colab-df-container {\n",
              "      display:flex;\n",
              "      flex-wrap:wrap;\n",
              "      gap: 12px;\n",
              "    }\n",
              "\n",
              "    .colab-df-convert {\n",
              "      background-color: #E8F0FE;\n",
              "      border: none;\n",
              "      border-radius: 50%;\n",
              "      cursor: pointer;\n",
              "      display: none;\n",
              "      fill: #1967D2;\n",
              "      height: 32px;\n",
              "      padding: 0 0 0 0;\n",
              "      width: 32px;\n",
              "    }\n",
              "\n",
              "    .colab-df-convert:hover {\n",
              "      background-color: #E2EBFA;\n",
              "      box-shadow: 0px 1px 2px rgba(60, 64, 67, 0.3), 0px 1px 3px 1px rgba(60, 64, 67, 0.15);\n",
              "      fill: #174EA6;\n",
              "    }\n",
              "\n",
              "    [theme=dark] .colab-df-convert {\n",
              "      background-color: #3B4455;\n",
              "      fill: #D2E3FC;\n",
              "    }\n",
              "\n",
              "    [theme=dark] .colab-df-convert:hover {\n",
              "      background-color: #434B5C;\n",
              "      box-shadow: 0px 1px 3px 1px rgba(0, 0, 0, 0.15);\n",
              "      filter: drop-shadow(0px 1px 2px rgba(0, 0, 0, 0.3));\n",
              "      fill: #FFFFFF;\n",
              "    }\n",
              "  </style>\n",
              "\n",
              "      <script>\n",
              "        const buttonEl =\n",
              "          document.querySelector('#df-fa73a631-10df-40da-a2ac-853bc69ae437 button.colab-df-convert');\n",
              "        buttonEl.style.display =\n",
              "          google.colab.kernel.accessAllowed ? 'block' : 'none';\n",
              "\n",
              "        async function convertToInteractive(key) {\n",
              "          const element = document.querySelector('#df-fa73a631-10df-40da-a2ac-853bc69ae437');\n",
              "          const dataTable =\n",
              "            await google.colab.kernel.invokeFunction('convertToInteractive',\n",
              "                                                     [key], {});\n",
              "          if (!dataTable) return;\n",
              "\n",
              "          const docLinkHtml = 'Like what you see? Visit the ' +\n",
              "            '<a target=\"_blank\" href=https://colab.research.google.com/notebooks/data_table.ipynb>data table notebook</a>'\n",
              "            + ' to learn more about interactive tables.';\n",
              "          element.innerHTML = '';\n",
              "          dataTable['output_type'] = 'display_data';\n",
              "          await google.colab.output.renderOutput(dataTable, element);\n",
              "          const docLink = document.createElement('div');\n",
              "          docLink.innerHTML = docLinkHtml;\n",
              "          element.appendChild(docLink);\n",
              "        }\n",
              "      </script>\n",
              "    </div>\n",
              "  </div>\n",
              "  "
            ]
          },
          "metadata": {},
          "execution_count": 32
        }
      ]
    },
    {
      "cell_type": "markdown",
      "source": [
        "###Separação das variáveis explicativas e resposta"
      ],
      "metadata": {
        "id": "l8nI_9KnUnuO"
      }
    },
    {
      "cell_type": "code",
      "source": [
        "#Separação das variáveis explicativas e resposta\n",
        "y1 = datanorm1['inadimplente']\n",
        "x1 = datanorm1.drop(columns=['inadimplente'],axis=1)"
      ],
      "metadata": {
        "id": "hLFQpndCTGch"
      },
      "execution_count": 33,
      "outputs": []
    },
    {
      "cell_type": "code",
      "source": [
        "len(y1)"
      ],
      "metadata": {
        "colab": {
          "base_uri": "https://localhost:8080/"
        },
        "id": "NkFxLFDHTO2U",
        "outputId": "7522b65f-9ae5-462f-a22d-fff7a82da6c6"
      },
      "execution_count": 34,
      "outputs": [
        {
          "output_type": "execute_result",
          "data": {
            "text/plain": [
              "12168"
            ]
          },
          "metadata": {},
          "execution_count": 34
        }
      ]
    },
    {
      "cell_type": "code",
      "source": [
        "len(x1)"
      ],
      "metadata": {
        "colab": {
          "base_uri": "https://localhost:8080/"
        },
        "id": "zNjxATB8TScU",
        "outputId": "4c9d78b9-6070-4e4d-e070-99aec5124067"
      },
      "execution_count": 35,
      "outputs": [
        {
          "output_type": "execute_result",
          "data": {
            "text/plain": [
              "12168"
            ]
          },
          "metadata": {},
          "execution_count": 35
        }
      ]
    },
    {
      "cell_type": "markdown",
      "source": [
        "###Verificação das variáveis que mais contribuem para explicar a inadimplência"
      ],
      "metadata": {
        "id": "W47BnOQmVD4I"
      }
    },
    {
      "cell_type": "code",
      "source": [
        "from sklearn.feature_selection import SelectKBest\n",
        "from sklearn.feature_selection import f_classif\n",
        "scores1 = SelectKBest(score_func=f_classif, k=\"all\")\n",
        "a = scores1.fit_transform(x1,y1)"
      ],
      "metadata": {
        "id": "5utdFwAVU0xM"
      },
      "execution_count": 36,
      "outputs": []
    },
    {
      "cell_type": "code",
      "source": [
        "sco1 = pd.DataFrame(columns = ['var', 'score', 'porcentagem'], index=range(10))\n",
        "for i in range(10):\n",
        "  sco1.iloc[i] = [scores1.feature_names_in_[i],scores1.scores_[i], \n",
        "                  (scores1.scores_[i]/sum(scores1.scores_))*100]\n",
        "sco1.sort_values(by = 'score', ascending = False)\n"
      ],
      "metadata": {
        "colab": {
          "base_uri": "https://localhost:8080/",
          "height": 363
        },
        "id": "up6eFtuJ8Lpb",
        "outputId": "2cb88f9a-3b8b-4d75-88fe-bb0fdf650b53"
      },
      "execution_count": 37,
      "outputs": [
        {
          "output_type": "execute_result",
          "data": {
            "text/plain": [
              "                                     var       score porcentagem\n",
              "1                                  idade  539.223797   47.667001\n",
              "2             vezes_passou_de_30_59_dias  162.930444   14.402936\n",
              "6            numero_vezes_passou_90_dias  129.745793   11.469436\n",
              "8  numero_de_vezes_que_passou_60_89_dias   92.401591    8.168235\n",
              "9                  numero_de_dependentes   89.631956    7.923401\n",
              "4                         salario_mensal   79.102006    6.992561\n",
              "5             numero_linhas_crdto_aberto   35.479881    3.136396\n",
              "0                  util_linhas_inseguras    1.892215     0.16727\n",
              "7        numero_emprestimos_imobiliarios    0.647823    0.057267\n",
              "3                           razao_debito    0.175287    0.015495"
            ],
            "text/html": [
              "\n",
              "  <div id=\"df-996eae7e-9697-4386-90f0-5b0286164afe\">\n",
              "    <div class=\"colab-df-container\">\n",
              "      <div>\n",
              "<style scoped>\n",
              "    .dataframe tbody tr th:only-of-type {\n",
              "        vertical-align: middle;\n",
              "    }\n",
              "\n",
              "    .dataframe tbody tr th {\n",
              "        vertical-align: top;\n",
              "    }\n",
              "\n",
              "    .dataframe thead th {\n",
              "        text-align: right;\n",
              "    }\n",
              "</style>\n",
              "<table border=\"1\" class=\"dataframe\">\n",
              "  <thead>\n",
              "    <tr style=\"text-align: right;\">\n",
              "      <th></th>\n",
              "      <th>var</th>\n",
              "      <th>score</th>\n",
              "      <th>porcentagem</th>\n",
              "    </tr>\n",
              "  </thead>\n",
              "  <tbody>\n",
              "    <tr>\n",
              "      <th>1</th>\n",
              "      <td>idade</td>\n",
              "      <td>539.223797</td>\n",
              "      <td>47.667001</td>\n",
              "    </tr>\n",
              "    <tr>\n",
              "      <th>2</th>\n",
              "      <td>vezes_passou_de_30_59_dias</td>\n",
              "      <td>162.930444</td>\n",
              "      <td>14.402936</td>\n",
              "    </tr>\n",
              "    <tr>\n",
              "      <th>6</th>\n",
              "      <td>numero_vezes_passou_90_dias</td>\n",
              "      <td>129.745793</td>\n",
              "      <td>11.469436</td>\n",
              "    </tr>\n",
              "    <tr>\n",
              "      <th>8</th>\n",
              "      <td>numero_de_vezes_que_passou_60_89_dias</td>\n",
              "      <td>92.401591</td>\n",
              "      <td>8.168235</td>\n",
              "    </tr>\n",
              "    <tr>\n",
              "      <th>9</th>\n",
              "      <td>numero_de_dependentes</td>\n",
              "      <td>89.631956</td>\n",
              "      <td>7.923401</td>\n",
              "    </tr>\n",
              "    <tr>\n",
              "      <th>4</th>\n",
              "      <td>salario_mensal</td>\n",
              "      <td>79.102006</td>\n",
              "      <td>6.992561</td>\n",
              "    </tr>\n",
              "    <tr>\n",
              "      <th>5</th>\n",
              "      <td>numero_linhas_crdto_aberto</td>\n",
              "      <td>35.479881</td>\n",
              "      <td>3.136396</td>\n",
              "    </tr>\n",
              "    <tr>\n",
              "      <th>0</th>\n",
              "      <td>util_linhas_inseguras</td>\n",
              "      <td>1.892215</td>\n",
              "      <td>0.16727</td>\n",
              "    </tr>\n",
              "    <tr>\n",
              "      <th>7</th>\n",
              "      <td>numero_emprestimos_imobiliarios</td>\n",
              "      <td>0.647823</td>\n",
              "      <td>0.057267</td>\n",
              "    </tr>\n",
              "    <tr>\n",
              "      <th>3</th>\n",
              "      <td>razao_debito</td>\n",
              "      <td>0.175287</td>\n",
              "      <td>0.015495</td>\n",
              "    </tr>\n",
              "  </tbody>\n",
              "</table>\n",
              "</div>\n",
              "      <button class=\"colab-df-convert\" onclick=\"convertToInteractive('df-996eae7e-9697-4386-90f0-5b0286164afe')\"\n",
              "              title=\"Convert this dataframe to an interactive table.\"\n",
              "              style=\"display:none;\">\n",
              "        \n",
              "  <svg xmlns=\"http://www.w3.org/2000/svg\" height=\"24px\"viewBox=\"0 0 24 24\"\n",
              "       width=\"24px\">\n",
              "    <path d=\"M0 0h24v24H0V0z\" fill=\"none\"/>\n",
              "    <path d=\"M18.56 5.44l.94 2.06.94-2.06 2.06-.94-2.06-.94-.94-2.06-.94 2.06-2.06.94zm-11 1L8.5 8.5l.94-2.06 2.06-.94-2.06-.94L8.5 2.5l-.94 2.06-2.06.94zm10 10l.94 2.06.94-2.06 2.06-.94-2.06-.94-.94-2.06-.94 2.06-2.06.94z\"/><path d=\"M17.41 7.96l-1.37-1.37c-.4-.4-.92-.59-1.43-.59-.52 0-1.04.2-1.43.59L10.3 9.45l-7.72 7.72c-.78.78-.78 2.05 0 2.83L4 21.41c.39.39.9.59 1.41.59.51 0 1.02-.2 1.41-.59l7.78-7.78 2.81-2.81c.8-.78.8-2.07 0-2.86zM5.41 20L4 18.59l7.72-7.72 1.47 1.35L5.41 20z\"/>\n",
              "  </svg>\n",
              "      </button>\n",
              "      \n",
              "  <style>\n",
              "    .colab-df-container {\n",
              "      display:flex;\n",
              "      flex-wrap:wrap;\n",
              "      gap: 12px;\n",
              "    }\n",
              "\n",
              "    .colab-df-convert {\n",
              "      background-color: #E8F0FE;\n",
              "      border: none;\n",
              "      border-radius: 50%;\n",
              "      cursor: pointer;\n",
              "      display: none;\n",
              "      fill: #1967D2;\n",
              "      height: 32px;\n",
              "      padding: 0 0 0 0;\n",
              "      width: 32px;\n",
              "    }\n",
              "\n",
              "    .colab-df-convert:hover {\n",
              "      background-color: #E2EBFA;\n",
              "      box-shadow: 0px 1px 2px rgba(60, 64, 67, 0.3), 0px 1px 3px 1px rgba(60, 64, 67, 0.15);\n",
              "      fill: #174EA6;\n",
              "    }\n",
              "\n",
              "    [theme=dark] .colab-df-convert {\n",
              "      background-color: #3B4455;\n",
              "      fill: #D2E3FC;\n",
              "    }\n",
              "\n",
              "    [theme=dark] .colab-df-convert:hover {\n",
              "      background-color: #434B5C;\n",
              "      box-shadow: 0px 1px 3px 1px rgba(0, 0, 0, 0.15);\n",
              "      filter: drop-shadow(0px 1px 2px rgba(0, 0, 0, 0.3));\n",
              "      fill: #FFFFFF;\n",
              "    }\n",
              "  </style>\n",
              "\n",
              "      <script>\n",
              "        const buttonEl =\n",
              "          document.querySelector('#df-996eae7e-9697-4386-90f0-5b0286164afe button.colab-df-convert');\n",
              "        buttonEl.style.display =\n",
              "          google.colab.kernel.accessAllowed ? 'block' : 'none';\n",
              "\n",
              "        async function convertToInteractive(key) {\n",
              "          const element = document.querySelector('#df-996eae7e-9697-4386-90f0-5b0286164afe');\n",
              "          const dataTable =\n",
              "            await google.colab.kernel.invokeFunction('convertToInteractive',\n",
              "                                                     [key], {});\n",
              "          if (!dataTable) return;\n",
              "\n",
              "          const docLinkHtml = 'Like what you see? Visit the ' +\n",
              "            '<a target=\"_blank\" href=https://colab.research.google.com/notebooks/data_table.ipynb>data table notebook</a>'\n",
              "            + ' to learn more about interactive tables.';\n",
              "          element.innerHTML = '';\n",
              "          dataTable['output_type'] = 'display_data';\n",
              "          await google.colab.output.renderOutput(dataTable, element);\n",
              "          const docLink = document.createElement('div');\n",
              "          docLink.innerHTML = docLinkHtml;\n",
              "          element.appendChild(docLink);\n",
              "        }\n",
              "      </script>\n",
              "    </div>\n",
              "  </div>\n",
              "  "
            ]
          },
          "metadata": {},
          "execution_count": 37
        }
      ]
    },
    {
      "cell_type": "markdown",
      "source": [
        "###Modelo"
      ],
      "metadata": {
        "id": "fofI0A8vcx6s"
      }
    },
    {
      "cell_type": "markdown",
      "source": [
        "####Testes com RandomForest"
      ],
      "metadata": {
        "id": "VXhj68jY7gL8"
      }
    },
    {
      "cell_type": "code",
      "source": [
        "from sklearn.ensemble import RandomForestClassifier\n",
        "from sklearn.model_selection import StratifiedKFold\n",
        "kfold = StratifiedKFold(n_splits=5, shuffle=True)\n",
        "from sklearn.model_selection import RandomizedSearchCV"
      ],
      "metadata": {
        "id": "Ug5sYzeycVuk"
      },
      "execution_count": 38,
      "outputs": []
    },
    {
      "cell_type": "markdown",
      "source": [
        "####Testagem de hiperparâmetros do modelo1 com todas as variáveis"
      ],
      "metadata": {
        "id": "SsVnR-O67Kr4"
      }
    },
    {
      "cell_type": "code",
      "source": [
        "#Testagem de hiperparâmetros do modelo1 com todas as variáveis\n",
        "min_samples_split = [2,3,4,5,7,9,11,13,15,17]\n",
        "max_depth = [2,3,5,7,9,11,13,15,17]\n",
        "min_samples_leaf = [2,3,4,5,7,9]\n",
        "valores = {'min_samples_split':min_samples_split, \n",
        "           'max_depth':max_depth, \n",
        "           'min_samples_leaf':min_samples_leaf}\n",
        "\n",
        "modelo1_todasvars = RandomForestClassifier(n_estimators=50, n_jobs=-1)\n",
        "\n",
        "search = RandomizedSearchCV(estimator=modelo1_todasvars,\n",
        "                            param_distributions=valores, \n",
        "                            cv=kfold, \n",
        "                            n_iter=50, \n",
        "                            n_jobs=-1)\n",
        "search.fit(x1,y1)\n",
        "print(search.best_score_, \n",
        "      search.best_estimator_.min_samples_split, \n",
        "      search.best_estimator_.max_depth, \n",
        "      search.best_estimator_.min_samples_leaf)"
      ],
      "metadata": {
        "colab": {
          "base_uri": "https://localhost:8080/"
        },
        "id": "kXAQdXebc1Oo",
        "outputId": "be9fde39-f71d-4e2c-c822-6f938443ba7a"
      },
      "execution_count": 39,
      "outputs": [
        {
          "output_type": "stream",
          "name": "stdout",
          "text": [
            "0.7735054261099691 11 13 5\n"
          ]
        }
      ]
    },
    {
      "cell_type": "markdown",
      "source": [
        "####Testagem de hiperparâmetros do modelo excluindo as variáveis de menor score"
      ],
      "metadata": {
        "id": "V_JB1ySz7Qv2"
      }
    },
    {
      "cell_type": "code",
      "source": [
        "x1_scores = x1[['idade', 'vezes_passou_de_30_59_dias',\n",
        "               'numero_linhas_crdto_aberto', 'numero_vezes_passou_90_dias',\n",
        "               'numero_de_vezes_que_passou_60_89_dias', \n",
        "               'numero_de_dependentes']]"
      ],
      "metadata": {
        "id": "n80n_4GX_si0"
      },
      "execution_count": 40,
      "outputs": []
    },
    {
      "cell_type": "code",
      "source": [
        "#Testagem de hiperparâmetros do modelo excluindo as variáveis de menor score\n",
        "min_samples_split = [2,3,4,5,7,9,11,13,15,17]\n",
        "max_depth = [2,3,5,7,9,11,13,15,17]\n",
        "min_samples_leaf = [2,3,4,5,7,9]\n",
        "valores = {'min_samples_split':min_samples_split, \n",
        "           'max_depth':max_depth, \n",
        "           'min_samples_leaf':min_samples_leaf}\n",
        "\n",
        "modelo1_scores = RandomForestClassifier(n_estimators=50, \n",
        "                                        n_jobs=-1)\n",
        "\n",
        "search = RandomizedSearchCV(estimator=modelo1_scores,\n",
        "                            param_distributions=valores, \n",
        "                            cv=kfold,\n",
        "                            n_iter=50,\n",
        "                            n_jobs=-1)\n",
        "search.fit(x1_scores,y1)\n",
        "print(search.best_score_, \n",
        "      search.best_estimator_.min_samples_split, \n",
        "      search.best_estimator_.max_depth, \n",
        "      search.best_estimator_.min_samples_leaf)"
      ],
      "metadata": {
        "colab": {
          "base_uri": "https://localhost:8080/"
        },
        "id": "VECQlF__AGjK",
        "outputId": "c4c25a88-cb5e-40ca-b15d-ecbf05054326"
      },
      "execution_count": 41,
      "outputs": [
        {
          "output_type": "stream",
          "name": "stdout",
          "text": [
            "0.7479449408485961 3 9 3\n"
          ]
        }
      ]
    },
    {
      "cell_type": "markdown",
      "source": [
        "####Testagem de hiperparâmetros do modelo excluindo as variáveis de correlação alta"
      ],
      "metadata": {
        "id": "yMM8KAfD7UHO"
      }
    },
    {
      "cell_type": "code",
      "source": [
        "x1_semcorr = x1[['util_linhas_inseguras', 'idade', \n",
        "                 'vezes_passou_de_30_59_dias', 'razao_debito', \n",
        "                 'salario_mensal', 'numero_linhas_crdto_aberto',\n",
        "                 'numero_emprestimos_imobiliarios', 'numero_de_dependentes']]"
      ],
      "metadata": {
        "id": "ta3EEecDArak"
      },
      "execution_count": 42,
      "outputs": []
    },
    {
      "cell_type": "code",
      "source": [
        "#Testagem de hiperparâmetros do modelo excluindo as variáveis de correlação alta\n",
        "min_samples_split = [2,3,4,5,7,9,11,13,15,17]\n",
        "max_depth = [2,3,5,7,9,11,13,15,17]\n",
        "min_samples_leaf = [2,3,4,5,7,9]\n",
        "valores = {'min_samples_split':min_samples_split, \n",
        "           'max_depth':max_depth, \n",
        "           'min_samples_leaf':min_samples_leaf}\n",
        "\n",
        "modelo1_semcorr = RandomForestClassifier(n_estimators=50, \n",
        "                                         n_jobs=-1)\n",
        "\n",
        "search = RandomizedSearchCV(estimator=modelo1_semcorr,\n",
        "                            param_distributions=valores, \n",
        "                            cv=kfold, \n",
        "                            n_iter=50, \n",
        "                            n_jobs=-1)\n",
        "search.fit(x1_semcorr,y1)\n",
        "print(search.best_score_, \n",
        "      search.best_estimator_.min_samples_split, \n",
        "      search.best_estimator_.max_depth, \n",
        "      search.best_estimator_.min_samples_leaf)"
      ],
      "metadata": {
        "colab": {
          "base_uri": "https://localhost:8080/"
        },
        "id": "KIJmznXoB2Vx",
        "outputId": "ac670092-2b27-4164-8f2f-047b85d3ebe1"
      },
      "execution_count": 43,
      "outputs": [
        {
          "output_type": "stream",
          "name": "stdout",
          "text": [
            "0.7481939478432846 13 7 2\n"
          ]
        }
      ]
    },
    {
      "cell_type": "code",
      "source": [
        "x1_5vars = x1[['idade', 'vezes_passou_de_30_59_dias', 'numero_de_dependentes',\n",
        "                'numero_linhas_crdto_aberto', 'salario_mensal']]"
      ],
      "metadata": {
        "id": "-9zGeIWldrub"
      },
      "execution_count": 44,
      "outputs": []
    },
    {
      "cell_type": "markdown",
      "source": [
        "####Testagem de hiperparâmetros do modelo excluindo as variaveis de correlação alta e de scores baixos"
      ],
      "metadata": {
        "id": "67Z5AZG87Xf2"
      }
    },
    {
      "cell_type": "code",
      "source": [
        "#Testagem de hiperparâmetros do modelo excluindo as variaveis de correlação alta\n",
        "#e de scores baixos\n",
        "min_samples_split = [2,3,4,5,7,9,11,13,15,17]\n",
        "max_depth = [2,3,5,7,9,11,13,15,17]\n",
        "min_samples_leaf = [2,3,4,5,7,9]\n",
        "valores = {'min_samples_split':min_samples_split, \n",
        "           'max_depth':max_depth, \n",
        "           'min_samples_leaf':min_samples_leaf}\n",
        "\n",
        "modelo1_5vars = RandomForestClassifier(n_estimators=50, \n",
        "                                       n_jobs=-1)\n",
        "\n",
        "search = RandomizedSearchCV(estimator=modelo1_5vars,\n",
        "                            param_distributions=valores, \n",
        "                            cv=kfold, \n",
        "                            n_iter=50, \n",
        "                            n_jobs=-1)\n",
        "search.fit(x1_5vars,y1)\n",
        "print(search.best_score_,\n",
        "      search.best_estimator_.min_samples_split, \n",
        "      search.best_estimator_.max_depth, \n",
        "      search.best_estimator_.min_samples_leaf)"
      ],
      "metadata": {
        "colab": {
          "base_uri": "https://localhost:8080/"
        },
        "id": "LZI5larQd9Hf",
        "outputId": "513302f1-6859-4866-de03-a829f19a90a7"
      },
      "execution_count": 45,
      "outputs": [
        {
          "output_type": "stream",
          "name": "stdout",
          "text": [
            "0.7085807276759133 13 9 5\n"
          ]
        }
      ]
    },
    {
      "cell_type": "markdown",
      "source": [
        "Utilizando Random Forest, o melhor modelo neste caso foi o que utilizou todas as variáveis explicativas, atingindo a acurácia de 0.77350, com os parâmetros min_samples_split=11, max_depth=13 e min_samples_leaf=5."
      ],
      "metadata": {
        "id": "svWCLQvXCzuM"
      }
    },
    {
      "cell_type": "markdown",
      "source": [
        "####Testes com AdaBoost com DacisionTree"
      ],
      "metadata": {
        "id": "aRlszz-b7ngM"
      }
    },
    {
      "cell_type": "code",
      "source": [
        "from sklearn.ensemble import AdaBoostClassifier"
      ],
      "metadata": {
        "id": "BLacwkqQhUt3"
      },
      "execution_count": 46,
      "outputs": []
    },
    {
      "cell_type": "markdown",
      "source": [
        "####Testagem de hiperparâmetros do modelo utilizando todas as variáveis"
      ],
      "metadata": {
        "id": "z9mNLvBf7wNH"
      }
    },
    {
      "cell_type": "code",
      "source": [
        "#Testagem de hiperparâmetros do modelo com AdaBoost\n",
        "n_estimators = [150,300,400,500]\n",
        "learning_rate = [0.05,0.1,0.2,0.3,0.5,0.7,0.9]\n",
        "valores = {'n_estimators':n_estimators, \n",
        "           'learning_rate':learning_rate}\n",
        "\n",
        "modelo1_ada = AdaBoostClassifier()\n",
        "\n",
        "search = RandomizedSearchCV(estimator=modelo1_ada,\n",
        "                            param_distributions=valores, \n",
        "                            cv=kfold, \n",
        "                            n_iter=min(len(n_estimators)*len(learning_rate),50),\n",
        "                            n_jobs=-1)\n",
        "search.fit(x1,y1)\n",
        "print(search.best_score_, \n",
        "      search.best_estimator_.n_estimators, \n",
        "      search.best_estimator_.learning_rate)"
      ],
      "metadata": {
        "colab": {
          "base_uri": "https://localhost:8080/"
        },
        "id": "In-rKvX6hqhl",
        "outputId": "ac9befc6-8577-4de2-df8f-120b909ca8bb"
      },
      "execution_count": 47,
      "outputs": [
        {
          "output_type": "stream",
          "name": "stdout",
          "text": [
            "0.7653680342294276 400 0.05\n"
          ]
        }
      ]
    },
    {
      "cell_type": "markdown",
      "source": [
        "####Testagem de hiperparâmetros do modelo excluindo as variáveis de correlação alta"
      ],
      "metadata": {
        "id": "Fzx_gq6c8HJ_"
      }
    },
    {
      "cell_type": "code",
      "source": [
        "#Testagem de hiperparâmetros do modelo com AdaBoost\n",
        "n_estimators = [150,300,500,700]\n",
        "learning_rate = [0.05,0.1,0.2,0.3,0.5,0.7,0.9]\n",
        "valores = {'n_estimators':n_estimators,\n",
        "           'learning_rate':learning_rate}\n",
        "\n",
        "modelo1_ada_semcorr = AdaBoostClassifier()\n",
        "\n",
        "search = RandomizedSearchCV(estimator=modelo1_ada_semcorr,\n",
        "                            param_distributions=valores, \n",
        "                            cv=kfold,\n",
        "                            n_iter=min(len(n_estimators)*len(learning_rate),50),\n",
        "                            n_jobs=-1)\n",
        "search.fit(x1_semcorr,y1)\n",
        "print(search.best_score_, \n",
        "      search.best_estimator_.n_estimators, \n",
        "      search.best_estimator_.learning_rate)"
      ],
      "metadata": {
        "colab": {
          "base_uri": "https://localhost:8080/"
        },
        "id": "L7yX1r9zEH6r",
        "outputId": "fb80ddad-fe30-4c66-c40b-f9bdf0d96e62"
      },
      "execution_count": 48,
      "outputs": [
        {
          "output_type": "stream",
          "name": "stdout",
          "text": [
            "0.7462206358003364 500 0.3\n"
          ]
        }
      ]
    },
    {
      "cell_type": "markdown",
      "source": [
        "##Análise 2: Exclusão da coluna salario_mensal"
      ],
      "metadata": {
        "id": "_b6gMyjSmXYc"
      }
    },
    {
      "cell_type": "markdown",
      "source": [
        "###Excluir coluna salario e dados faltantes"
      ],
      "metadata": {
        "id": "fCepbQrTHzVY"
      }
    },
    {
      "cell_type": "code",
      "source": [
        "#Excluir coluna salario e dados faltantes\n",
        "data2 = data.copy().drop(columns=['salario_mensal'],axis=1)\n",
        "data2.dropna(inplace = True)\n",
        "data2.shape"
      ],
      "metadata": {
        "colab": {
          "base_uri": "https://localhost:8080/"
        },
        "id": "EkLDV3zkmVfb",
        "outputId": "2ec12cda-81be-49d6-8da1-5e76a18aecb9"
      },
      "execution_count": 49,
      "outputs": [
        {
          "output_type": "execute_result",
          "data": {
            "text/plain": [
              "(110000, 10)"
            ]
          },
          "metadata": {},
          "execution_count": 49
        }
      ]
    },
    {
      "cell_type": "code",
      "source": [
        "data2[data2.idade < 18]"
      ],
      "metadata": {
        "colab": {
          "base_uri": "https://localhost:8080/",
          "height": 145
        },
        "id": "FcQAqtTWR9rB",
        "outputId": "f39920d6-f1d5-4515-a254-366fc23784ac"
      },
      "execution_count": 50,
      "outputs": [
        {
          "output_type": "execute_result",
          "data": {
            "text/plain": [
              "       inadimplente  util_linhas_inseguras  idade  vezes_passou_de_30_59_dias  \\\n",
              "65695             0                    1.0      0                           1   \n",
              "\n",
              "       razao_debito  numero_linhas_crdto_aberto  numero_vezes_passou_90_dias  \\\n",
              "65695      0.436927                           6                            0   \n",
              "\n",
              "       numero_emprestimos_imobiliarios  numero_de_vezes_que_passou_60_89_dias  \\\n",
              "65695                                2                                      0   \n",
              "\n",
              "       numero_de_dependentes  \n",
              "65695                    2.0  "
            ],
            "text/html": [
              "\n",
              "  <div id=\"df-3cf302bc-2fa0-44e3-afaa-6b5c6abaa4bf\">\n",
              "    <div class=\"colab-df-container\">\n",
              "      <div>\n",
              "<style scoped>\n",
              "    .dataframe tbody tr th:only-of-type {\n",
              "        vertical-align: middle;\n",
              "    }\n",
              "\n",
              "    .dataframe tbody tr th {\n",
              "        vertical-align: top;\n",
              "    }\n",
              "\n",
              "    .dataframe thead th {\n",
              "        text-align: right;\n",
              "    }\n",
              "</style>\n",
              "<table border=\"1\" class=\"dataframe\">\n",
              "  <thead>\n",
              "    <tr style=\"text-align: right;\">\n",
              "      <th></th>\n",
              "      <th>inadimplente</th>\n",
              "      <th>util_linhas_inseguras</th>\n",
              "      <th>idade</th>\n",
              "      <th>vezes_passou_de_30_59_dias</th>\n",
              "      <th>razao_debito</th>\n",
              "      <th>numero_linhas_crdto_aberto</th>\n",
              "      <th>numero_vezes_passou_90_dias</th>\n",
              "      <th>numero_emprestimos_imobiliarios</th>\n",
              "      <th>numero_de_vezes_que_passou_60_89_dias</th>\n",
              "      <th>numero_de_dependentes</th>\n",
              "    </tr>\n",
              "  </thead>\n",
              "  <tbody>\n",
              "    <tr>\n",
              "      <th>65695</th>\n",
              "      <td>0</td>\n",
              "      <td>1.0</td>\n",
              "      <td>0</td>\n",
              "      <td>1</td>\n",
              "      <td>0.436927</td>\n",
              "      <td>6</td>\n",
              "      <td>0</td>\n",
              "      <td>2</td>\n",
              "      <td>0</td>\n",
              "      <td>2.0</td>\n",
              "    </tr>\n",
              "  </tbody>\n",
              "</table>\n",
              "</div>\n",
              "      <button class=\"colab-df-convert\" onclick=\"convertToInteractive('df-3cf302bc-2fa0-44e3-afaa-6b5c6abaa4bf')\"\n",
              "              title=\"Convert this dataframe to an interactive table.\"\n",
              "              style=\"display:none;\">\n",
              "        \n",
              "  <svg xmlns=\"http://www.w3.org/2000/svg\" height=\"24px\"viewBox=\"0 0 24 24\"\n",
              "       width=\"24px\">\n",
              "    <path d=\"M0 0h24v24H0V0z\" fill=\"none\"/>\n",
              "    <path d=\"M18.56 5.44l.94 2.06.94-2.06 2.06-.94-2.06-.94-.94-2.06-.94 2.06-2.06.94zm-11 1L8.5 8.5l.94-2.06 2.06-.94-2.06-.94L8.5 2.5l-.94 2.06-2.06.94zm10 10l.94 2.06.94-2.06 2.06-.94-2.06-.94-.94-2.06-.94 2.06-2.06.94z\"/><path d=\"M17.41 7.96l-1.37-1.37c-.4-.4-.92-.59-1.43-.59-.52 0-1.04.2-1.43.59L10.3 9.45l-7.72 7.72c-.78.78-.78 2.05 0 2.83L4 21.41c.39.39.9.59 1.41.59.51 0 1.02-.2 1.41-.59l7.78-7.78 2.81-2.81c.8-.78.8-2.07 0-2.86zM5.41 20L4 18.59l7.72-7.72 1.47 1.35L5.41 20z\"/>\n",
              "  </svg>\n",
              "      </button>\n",
              "      \n",
              "  <style>\n",
              "    .colab-df-container {\n",
              "      display:flex;\n",
              "      flex-wrap:wrap;\n",
              "      gap: 12px;\n",
              "    }\n",
              "\n",
              "    .colab-df-convert {\n",
              "      background-color: #E8F0FE;\n",
              "      border: none;\n",
              "      border-radius: 50%;\n",
              "      cursor: pointer;\n",
              "      display: none;\n",
              "      fill: #1967D2;\n",
              "      height: 32px;\n",
              "      padding: 0 0 0 0;\n",
              "      width: 32px;\n",
              "    }\n",
              "\n",
              "    .colab-df-convert:hover {\n",
              "      background-color: #E2EBFA;\n",
              "      box-shadow: 0px 1px 2px rgba(60, 64, 67, 0.3), 0px 1px 3px 1px rgba(60, 64, 67, 0.15);\n",
              "      fill: #174EA6;\n",
              "    }\n",
              "\n",
              "    [theme=dark] .colab-df-convert {\n",
              "      background-color: #3B4455;\n",
              "      fill: #D2E3FC;\n",
              "    }\n",
              "\n",
              "    [theme=dark] .colab-df-convert:hover {\n",
              "      background-color: #434B5C;\n",
              "      box-shadow: 0px 1px 3px 1px rgba(0, 0, 0, 0.15);\n",
              "      filter: drop-shadow(0px 1px 2px rgba(0, 0, 0, 0.3));\n",
              "      fill: #FFFFFF;\n",
              "    }\n",
              "  </style>\n",
              "\n",
              "      <script>\n",
              "        const buttonEl =\n",
              "          document.querySelector('#df-3cf302bc-2fa0-44e3-afaa-6b5c6abaa4bf button.colab-df-convert');\n",
              "        buttonEl.style.display =\n",
              "          google.colab.kernel.accessAllowed ? 'block' : 'none';\n",
              "\n",
              "        async function convertToInteractive(key) {\n",
              "          const element = document.querySelector('#df-3cf302bc-2fa0-44e3-afaa-6b5c6abaa4bf');\n",
              "          const dataTable =\n",
              "            await google.colab.kernel.invokeFunction('convertToInteractive',\n",
              "                                                     [key], {});\n",
              "          if (!dataTable) return;\n",
              "\n",
              "          const docLinkHtml = 'Like what you see? Visit the ' +\n",
              "            '<a target=\"_blank\" href=https://colab.research.google.com/notebooks/data_table.ipynb>data table notebook</a>'\n",
              "            + ' to learn more about interactive tables.';\n",
              "          element.innerHTML = '';\n",
              "          dataTable['output_type'] = 'display_data';\n",
              "          await google.colab.output.renderOutput(dataTable, element);\n",
              "          const docLink = document.createElement('div');\n",
              "          docLink.innerHTML = docLinkHtml;\n",
              "          element.appendChild(docLink);\n",
              "        }\n",
              "      </script>\n",
              "    </div>\n",
              "  </div>\n",
              "  "
            ]
          },
          "metadata": {},
          "execution_count": 50
        }
      ]
    },
    {
      "cell_type": "code",
      "source": [
        "data2.drop(index = 65695, inplace = True)"
      ],
      "metadata": {
        "id": "-oVybAXnSP-p"
      },
      "execution_count": 51,
      "outputs": []
    },
    {
      "cell_type": "code",
      "source": [
        "data2.shape"
      ],
      "metadata": {
        "colab": {
          "base_uri": "https://localhost:8080/"
        },
        "id": "BJ4OBoIDSVnB",
        "outputId": "f500d601-6240-4f6d-854f-36250147fc4f"
      },
      "execution_count": 52,
      "outputs": [
        {
          "output_type": "execute_result",
          "data": {
            "text/plain": [
              "(109999, 10)"
            ]
          },
          "metadata": {},
          "execution_count": 52
        }
      ]
    },
    {
      "cell_type": "code",
      "source": [
        "#Verificar se a base é balanceada\n",
        "data2.inadimplente.value_counts()"
      ],
      "metadata": {
        "colab": {
          "base_uri": "https://localhost:8080/"
        },
        "id": "ow9CklXfm233",
        "outputId": "2472617e-1ae6-4b47-dc05-2270032285e0"
      },
      "execution_count": 53,
      "outputs": [
        {
          "output_type": "execute_result",
          "data": {
            "text/plain": [
              "0    102668\n",
              "1      7331\n",
              "Name: inadimplente, dtype: int64"
            ]
          },
          "metadata": {},
          "execution_count": 53
        }
      ]
    },
    {
      "cell_type": "markdown",
      "source": [
        "####Correlação"
      ],
      "metadata": {
        "id": "OM1svUZ8KVpG"
      }
    },
    {
      "cell_type": "code",
      "source": [
        "#Correlação entre as variáveis independentes. \n",
        "plt.figure(figsize=(10,10))\n",
        "sns.heatmap(data2.corr(), annot=True)\n",
        "plt.show()"
      ],
      "metadata": {
        "colab": {
          "base_uri": "https://localhost:8080/",
          "height": 800
        },
        "id": "U9L5ZqZYm88y",
        "outputId": "e088a975-5d43-406f-b9d6-13cadb72a8a8"
      },
      "execution_count": 54,
      "outputs": [
        {
          "output_type": "display_data",
          "data": {
            "text/plain": [
              "<Figure size 720x720 with 2 Axes>"
            ],
            "image/png": "[encoded data removed]"
          },
          "metadata": {
            "needs_background": "light"
          }
        }
      ]
    },
    {
      "cell_type": "markdown",
      "source": [
        "###Balanceamento da base"
      ],
      "metadata": {
        "id": "alqiTLqaH7ou"
      }
    },
    {
      "cell_type": "code",
      "source": [
        "#Reduzir as observações de adimplentes de forma aleatória\n",
        "df2_class_0 = data2[data2['inadimplente'] == 0]\n",
        "df2_class_1 = data2[data2['inadimplente'] == 1]\n",
        "df2_class_0_under = df2_class_0.sample(7199)\n",
        "df2_test_under = pd.concat([df2_class_0_under, df2_class_1], axis=0)"
      ],
      "metadata": {
        "id": "XKMAa1eCnFte"
      },
      "execution_count": 55,
      "outputs": []
    },
    {
      "cell_type": "code",
      "source": [
        "df2_test_under.shape"
      ],
      "metadata": {
        "colab": {
          "base_uri": "https://localhost:8080/"
        },
        "id": "jF7WjYK0nZgE",
        "outputId": "eac01ea4-5f82-43b9-c61f-fbe5e112ed05"
      },
      "execution_count": 56,
      "outputs": [
        {
          "output_type": "execute_result",
          "data": {
            "text/plain": [
              "(14530, 10)"
            ]
          },
          "metadata": {},
          "execution_count": 56
        }
      ]
    },
    {
      "cell_type": "code",
      "source": [
        "from sklearn.preprocessing import MinMaxScaler\n",
        "norm2 = MinMaxScaler()\n",
        "dtnorm2 = norm2.fit_transform(df2_test_under)\n",
        "datanorm2 = pd.DataFrame(dtnorm2, columns = df2_test_under.columns)"
      ],
      "metadata": {
        "id": "dr6kR0rDne2b"
      },
      "execution_count": 57,
      "outputs": []
    },
    {
      "cell_type": "code",
      "source": [
        "#Separação das variáveis explicativas e resposta\n",
        "y2 = datanorm2['inadimplente']\n",
        "x2 = datanorm2.drop(columns=['inadimplente'],axis=1)"
      ],
      "metadata": {
        "id": "FGotO4npnufD"
      },
      "execution_count": 58,
      "outputs": []
    },
    {
      "cell_type": "code",
      "source": [
        "scores2 = SelectKBest(score_func=f_classif, k=\"all\")\n",
        "b = scores2.fit_transform(x2,y2)\n",
        "sco2 = pd.DataFrame(columns = ['var', 'score', 'porcentagem'], index=range(9))\n",
        "for i in range(9):\n",
        "  sco2.iloc[i] = [scores2.feature_names_in_[i],scores2.scores_[i], \n",
        "                  (scores2.scores_[i]/sum(scores2.scores_))*100]\n",
        "sco2.sort_values(by = 'score', ascending = False)"
      ],
      "metadata": {
        "colab": {
          "base_uri": "https://localhost:8080/",
          "height": 331
        },
        "id": "jHFMeJLhn1tn",
        "outputId": "75eb2d30-2bcb-49db-9d8f-81c6b609a2da"
      },
      "execution_count": 59,
      "outputs": [
        {
          "output_type": "execute_result",
          "data": {
            "text/plain": [
              "                                     var       score porcentagem\n",
              "1                                  idade  885.926821   57.647511\n",
              "2             vezes_passou_de_30_59_dias  201.370629   13.103244\n",
              "5            numero_vezes_passou_90_dias  173.072379   11.261869\n",
              "7  numero_de_vezes_que_passou_60_89_dias  130.398342    8.485057\n",
              "8                  numero_de_dependentes   79.958843    5.202945\n",
              "4             numero_linhas_crdto_aberto   59.827746    3.893008\n",
              "6        numero_emprestimos_imobiliarios    3.158932    0.205553\n",
              "3                           razao_debito    1.969898    0.128182\n",
              "0                  util_linhas_inseguras    1.116196    0.072631"
            ],
            "text/html": [
              "\n",
              "  <div id=\"df-14abcf35-b0ec-4ade-b52f-d0b02e808992\">\n",
              "    <div class=\"colab-df-container\">\n",
              "      <div>\n",
              "<style scoped>\n",
              "    .dataframe tbody tr th:only-of-type {\n",
              "        vertical-align: middle;\n",
              "    }\n",
              "\n",
              "    .dataframe tbody tr th {\n",
              "        vertical-align: top;\n",
              "    }\n",
              "\n",
              "    .dataframe thead th {\n",
              "        text-align: right;\n",
              "    }\n",
              "</style>\n",
              "<table border=\"1\" class=\"dataframe\">\n",
              "  <thead>\n",
              "    <tr style=\"text-align: right;\">\n",
              "      <th></th>\n",
              "      <th>var</th>\n",
              "      <th>score</th>\n",
              "      <th>porcentagem</th>\n",
              "    </tr>\n",
              "  </thead>\n",
              "  <tbody>\n",
              "    <tr>\n",
              "      <th>1</th>\n",
              "      <td>idade</td>\n",
              "      <td>885.926821</td>\n",
              "      <td>57.647511</td>\n",
              "    </tr>\n",
              "    <tr>\n",
              "      <th>2</th>\n",
              "      <td>vezes_passou_de_30_59_dias</td>\n",
              "      <td>201.370629</td>\n",
              "      <td>13.103244</td>\n",
              "    </tr>\n",
              "    <tr>\n",
              "      <th>5</th>\n",
              "      <td>numero_vezes_passou_90_dias</td>\n",
              "      <td>173.072379</td>\n",
              "      <td>11.261869</td>\n",
              "    </tr>\n",
              "    <tr>\n",
              "      <th>7</th>\n",
              "      <td>numero_de_vezes_que_passou_60_89_dias</td>\n",
              "      <td>130.398342</td>\n",
              "      <td>8.485057</td>\n",
              "    </tr>\n",
              "    <tr>\n",
              "      <th>8</th>\n",
              "      <td>numero_de_dependentes</td>\n",
              "      <td>79.958843</td>\n",
              "      <td>5.202945</td>\n",
              "    </tr>\n",
              "    <tr>\n",
              "      <th>4</th>\n",
              "      <td>numero_linhas_crdto_aberto</td>\n",
              "      <td>59.827746</td>\n",
              "      <td>3.893008</td>\n",
              "    </tr>\n",
              "    <tr>\n",
              "      <th>6</th>\n",
              "      <td>numero_emprestimos_imobiliarios</td>\n",
              "      <td>3.158932</td>\n",
              "      <td>0.205553</td>\n",
              "    </tr>\n",
              "    <tr>\n",
              "      <th>3</th>\n",
              "      <td>razao_debito</td>\n",
              "      <td>1.969898</td>\n",
              "      <td>0.128182</td>\n",
              "    </tr>\n",
              "    <tr>\n",
              "      <th>0</th>\n",
              "      <td>util_linhas_inseguras</td>\n",
              "      <td>1.116196</td>\n",
              "      <td>0.072631</td>\n",
              "    </tr>\n",
              "  </tbody>\n",
              "</table>\n",
              "</div>\n",
              "      <button class=\"colab-df-convert\" onclick=\"convertToInteractive('df-14abcf35-b0ec-4ade-b52f-d0b02e808992')\"\n",
              "              title=\"Convert this dataframe to an interactive table.\"\n",
              "              style=\"display:none;\">\n",
              "        \n",
              "  <svg xmlns=\"http://www.w3.org/2000/svg\" height=\"24px\"viewBox=\"0 0 24 24\"\n",
              "       width=\"24px\">\n",
              "    <path d=\"M0 0h24v24H0V0z\" fill=\"none\"/>\n",
              "    <path d=\"M18.56 5.44l.94 2.06.94-2.06 2.06-.94-2.06-.94-.94-2.06-.94 2.06-2.06.94zm-11 1L8.5 8.5l.94-2.06 2.06-.94-2.06-.94L8.5 2.5l-.94 2.06-2.06.94zm10 10l.94 2.06.94-2.06 2.06-.94-2.06-.94-.94-2.06-.94 2.06-2.06.94z\"/><path d=\"M17.41 7.96l-1.37-1.37c-.4-.4-.92-.59-1.43-.59-.52 0-1.04.2-1.43.59L10.3 9.45l-7.72 7.72c-.78.78-.78 2.05 0 2.83L4 21.41c.39.39.9.59 1.41.59.51 0 1.02-.2 1.41-.59l7.78-7.78 2.81-2.81c.8-.78.8-2.07 0-2.86zM5.41 20L4 18.59l7.72-7.72 1.47 1.35L5.41 20z\"/>\n",
              "  </svg>\n",
              "      </button>\n",
              "      \n",
              "  <style>\n",
              "    .colab-df-container {\n",
              "      display:flex;\n",
              "      flex-wrap:wrap;\n",
              "      gap: 12px;\n",
              "    }\n",
              "\n",
              "    .colab-df-convert {\n",
              "      background-color: #E8F0FE;\n",
              "      border: none;\n",
              "      border-radius: 50%;\n",
              "      cursor: pointer;\n",
              "      display: none;\n",
              "      fill: #1967D2;\n",
              "      height: 32px;\n",
              "      padding: 0 0 0 0;\n",
              "      width: 32px;\n",
              "    }\n",
              "\n",
              "    .colab-df-convert:hover {\n",
              "      background-color: #E2EBFA;\n",
              "      box-shadow: 0px 1px 2px rgba(60, 64, 67, 0.3), 0px 1px 3px 1px rgba(60, 64, 67, 0.15);\n",
              "      fill: #174EA6;\n",
              "    }\n",
              "\n",
              "    [theme=dark] .colab-df-convert {\n",
              "      background-color: #3B4455;\n",
              "      fill: #D2E3FC;\n",
              "    }\n",
              "\n",
              "    [theme=dark] .colab-df-convert:hover {\n",
              "      background-color: #434B5C;\n",
              "      box-shadow: 0px 1px 3px 1px rgba(0, 0, 0, 0.15);\n",
              "      filter: drop-shadow(0px 1px 2px rgba(0, 0, 0, 0.3));\n",
              "      fill: #FFFFFF;\n",
              "    }\n",
              "  </style>\n",
              "\n",
              "      <script>\n",
              "        const buttonEl =\n",
              "          document.querySelector('#df-14abcf35-b0ec-4ade-b52f-d0b02e808992 button.colab-df-convert');\n",
              "        buttonEl.style.display =\n",
              "          google.colab.kernel.accessAllowed ? 'block' : 'none';\n",
              "\n",
              "        async function convertToInteractive(key) {\n",
              "          const element = document.querySelector('#df-14abcf35-b0ec-4ade-b52f-d0b02e808992');\n",
              "          const dataTable =\n",
              "            await google.colab.kernel.invokeFunction('convertToInteractive',\n",
              "                                                     [key], {});\n",
              "          if (!dataTable) return;\n",
              "\n",
              "          const docLinkHtml = 'Like what you see? Visit the ' +\n",
              "            '<a target=\"_blank\" href=https://colab.research.google.com/notebooks/data_table.ipynb>data table notebook</a>'\n",
              "            + ' to learn more about interactive tables.';\n",
              "          element.innerHTML = '';\n",
              "          dataTable['output_type'] = 'display_data';\n",
              "          await google.colab.output.renderOutput(dataTable, element);\n",
              "          const docLink = document.createElement('div');\n",
              "          docLink.innerHTML = docLinkHtml;\n",
              "          element.appendChild(docLink);\n",
              "        }\n",
              "      </script>\n",
              "    </div>\n",
              "  </div>\n",
              "  "
            ]
          },
          "metadata": {},
          "execution_count": 59
        }
      ]
    },
    {
      "cell_type": "markdown",
      "source": [
        "###Modelo"
      ],
      "metadata": {
        "id": "XGJ3bcBbIA6v"
      }
    },
    {
      "cell_type": "markdown",
      "source": [
        "####Testagem de hiperparâmetros do modelo2 com RandomForest com todas as variáveis"
      ],
      "metadata": {
        "id": "48YlFg4IIW-1"
      }
    },
    {
      "cell_type": "code",
      "source": [
        "#Testagem de hiperparâmetros do modelo\n",
        "min_samples_split = [13,15,17,19,21,23,25,27,29,31]\n",
        "max_depth = [2,3,5,7,9,11,13,15,17]\n",
        "min_samples_leaf = [2,3,4,5,7,9]\n",
        "valores = {'min_samples_split':min_samples_split, \n",
        "           'max_depth':max_depth, \n",
        "           'min_samples_leaf':min_samples_leaf}\n",
        "\n",
        "modelo2 = RandomForestClassifier(n_estimators=50,\n",
        "                                 n_jobs=-1)\n",
        "\n",
        "search = RandomizedSearchCV(estimator=modelo2,\n",
        "                            param_distributions=valores,\n",
        "                            cv=kfold,\n",
        "                            n_iter=50,\n",
        "                            n_jobs=-1)\n",
        "search.fit(x2,y2)\n",
        "print(search.best_score_,\n",
        "      search.best_estimator_.min_samples_split,\n",
        "      search.best_estimator_.max_depth, \n",
        "      search.best_estimator_.min_samples_leaf)"
      ],
      "metadata": {
        "colab": {
          "base_uri": "https://localhost:8080/"
        },
        "id": "eCoCPwugn_dn",
        "outputId": "072bde3b-a16f-4ffd-869e-7fd4b78b030f"
      },
      "execution_count": 60,
      "outputs": [
        {
          "output_type": "stream",
          "name": "stdout",
          "text": [
            "0.7884377150722642 19 13 5\n"
          ]
        }
      ]
    },
    {
      "cell_type": "markdown",
      "source": [
        "####Testagem de hiperparâmetros do modelo2 com AdaBoost com todas as variáveis"
      ],
      "metadata": {
        "id": "-FLDW_3rIfe4"
      }
    },
    {
      "cell_type": "code",
      "source": [
        "#Testagem de hiperparâmetros do modelo\n",
        "n_estimators = [50,100,200]\n",
        "learning_rate = [0.1,0.2,0.3,0.5,0.7,0.9]\n",
        "valores = {'n_estimators':n_estimators,\n",
        "           'learning_rate':learning_rate}\n",
        "\n",
        "modelo2_ada = AdaBoostClassifier()\n",
        "\n",
        "search = RandomizedSearchCV(estimator=modelo2_ada,\n",
        "                            param_distributions=valores,\n",
        "                            cv=kfold,\n",
        "                            n_iter=min(len(n_estimators)*len(learning_rate),50),\n",
        "                            n_jobs=-1)\n",
        "search.fit(x2,y2)\n",
        "print(search.best_score_,\n",
        "      search.best_estimator_.n_estimators,\n",
        "      search.best_estimator_.learning_rate)"
      ],
      "metadata": {
        "colab": {
          "base_uri": "https://localhost:8080/"
        },
        "id": "GDzzENnapcqv",
        "outputId": "3ea501be-8a99-4b4b-90e7-8f5d9675b468"
      },
      "execution_count": 61,
      "outputs": [
        {
          "output_type": "stream",
          "name": "stdout",
          "text": [
            "0.7783207157604954 200 0.5\n"
          ]
        }
      ]
    },
    {
      "cell_type": "markdown",
      "source": [
        "O melhor modelo no caso em que excluímos a coluna salario_mensal foi o RandomForest, atingindo a acurácia de 0.78843, com os parâmetros min_samples_split=19, max_depth=13 e min_samples_leaf=5."
      ],
      "metadata": {
        "id": "5ty-J3p8NH5a"
      }
    },
    {
      "cell_type": "markdown",
      "source": [
        "##Análise 3: Substituição dos dados ausentes na coluna salario_mensal por sua mediana"
      ],
      "metadata": {
        "id": "Gth15yaNSkFR"
      }
    },
    {
      "cell_type": "code",
      "source": [
        "data3 = data.copy()"
      ],
      "metadata": {
        "id": "ZTK1Iu78Sj1t"
      },
      "execution_count": 62,
      "outputs": []
    },
    {
      "cell_type": "markdown",
      "source": [
        "###Preencher dados faltantes da coluna salario pela mediana"
      ],
      "metadata": {
        "id": "93BifIAjI41r"
      }
    },
    {
      "cell_type": "code",
      "source": [
        "data3.salario_mensal = data3.salario_mensal.fillna(data3.salario_mensal.median())"
      ],
      "metadata": {
        "id": "3d2fWcffS_65"
      },
      "execution_count": 63,
      "outputs": []
    },
    {
      "cell_type": "code",
      "source": [
        "data3[data3.idade < 18]"
      ],
      "metadata": {
        "colab": {
          "base_uri": "https://localhost:8080/",
          "height": 145
        },
        "id": "uN5nEw85S_28",
        "outputId": "eeb5ba06-450a-407d-e985-68503f955c2e"
      },
      "execution_count": 64,
      "outputs": [
        {
          "output_type": "execute_result",
          "data": {
            "text/plain": [
              "       inadimplente  util_linhas_inseguras  idade  vezes_passou_de_30_59_dias  \\\n",
              "65695             0                    1.0      0                           1   \n",
              "\n",
              "       razao_debito  salario_mensal  numero_linhas_crdto_aberto  \\\n",
              "65695      0.436927          6000.0                           6   \n",
              "\n",
              "       numero_vezes_passou_90_dias  numero_emprestimos_imobiliarios  \\\n",
              "65695                            0                                2   \n",
              "\n",
              "       numero_de_vezes_que_passou_60_89_dias  numero_de_dependentes  \n",
              "65695                                      0                    2.0  "
            ],
            "text/html": [
              "\n",
              "  <div id=\"df-2f8b6a30-2935-46b0-b98b-3cd1208b5173\">\n",
              "    <div class=\"colab-df-container\">\n",
              "      <div>\n",
              "<style scoped>\n",
              "    .dataframe tbody tr th:only-of-type {\n",
              "        vertical-align: middle;\n",
              "    }\n",
              "\n",
              "    .dataframe tbody tr th {\n",
              "        vertical-align: top;\n",
              "    }\n",
              "\n",
              "    .dataframe thead th {\n",
              "        text-align: right;\n",
              "    }\n",
              "</style>\n",
              "<table border=\"1\" class=\"dataframe\">\n",
              "  <thead>\n",
              "    <tr style=\"text-align: right;\">\n",
              "      <th></th>\n",
              "      <th>inadimplente</th>\n",
              "      <th>util_linhas_inseguras</th>\n",
              "      <th>idade</th>\n",
              "      <th>vezes_passou_de_30_59_dias</th>\n",
              "      <th>razao_debito</th>\n",
              "      <th>salario_mensal</th>\n",
              "      <th>numero_linhas_crdto_aberto</th>\n",
              "      <th>numero_vezes_passou_90_dias</th>\n",
              "      <th>numero_emprestimos_imobiliarios</th>\n",
              "      <th>numero_de_vezes_que_passou_60_89_dias</th>\n",
              "      <th>numero_de_dependentes</th>\n",
              "    </tr>\n",
              "  </thead>\n",
              "  <tbody>\n",
              "    <tr>\n",
              "      <th>65695</th>\n",
              "      <td>0</td>\n",
              "      <td>1.0</td>\n",
              "      <td>0</td>\n",
              "      <td>1</td>\n",
              "      <td>0.436927</td>\n",
              "      <td>6000.0</td>\n",
              "      <td>6</td>\n",
              "      <td>0</td>\n",
              "      <td>2</td>\n",
              "      <td>0</td>\n",
              "      <td>2.0</td>\n",
              "    </tr>\n",
              "  </tbody>\n",
              "</table>\n",
              "</div>\n",
              "      <button class=\"colab-df-convert\" onclick=\"convertToInteractive('df-2f8b6a30-2935-46b0-b98b-3cd1208b5173')\"\n",
              "              title=\"Convert this dataframe to an interactive table.\"\n",
              "              style=\"display:none;\">\n",
              "        \n",
              "  <svg xmlns=\"http://www.w3.org/2000/svg\" height=\"24px\"viewBox=\"0 0 24 24\"\n",
              "       width=\"24px\">\n",
              "    <path d=\"M0 0h24v24H0V0z\" fill=\"none\"/>\n",
              "    <path d=\"M18.56 5.44l.94 2.06.94-2.06 2.06-.94-2.06-.94-.94-2.06-.94 2.06-2.06.94zm-11 1L8.5 8.5l.94-2.06 2.06-.94-2.06-.94L8.5 2.5l-.94 2.06-2.06.94zm10 10l.94 2.06.94-2.06 2.06-.94-2.06-.94-.94-2.06-.94 2.06-2.06.94z\"/><path d=\"M17.41 7.96l-1.37-1.37c-.4-.4-.92-.59-1.43-.59-.52 0-1.04.2-1.43.59L10.3 9.45l-7.72 7.72c-.78.78-.78 2.05 0 2.83L4 21.41c.39.39.9.59 1.41.59.51 0 1.02-.2 1.41-.59l7.78-7.78 2.81-2.81c.8-.78.8-2.07 0-2.86zM5.41 20L4 18.59l7.72-7.72 1.47 1.35L5.41 20z\"/>\n",
              "  </svg>\n",
              "      </button>\n",
              "      \n",
              "  <style>\n",
              "    .colab-df-container {\n",
              "      display:flex;\n",
              "      flex-wrap:wrap;\n",
              "      gap: 12px;\n",
              "    }\n",
              "\n",
              "    .colab-df-convert {\n",
              "      background-color: #E8F0FE;\n",
              "      border: none;\n",
              "      border-radius: 50%;\n",
              "      cursor: pointer;\n",
              "      display: none;\n",
              "      fill: #1967D2;\n",
              "      height: 32px;\n",
              "      padding: 0 0 0 0;\n",
              "      width: 32px;\n",
              "    }\n",
              "\n",
              "    .colab-df-convert:hover {\n",
              "      background-color: #E2EBFA;\n",
              "      box-shadow: 0px 1px 2px rgba(60, 64, 67, 0.3), 0px 1px 3px 1px rgba(60, 64, 67, 0.15);\n",
              "      fill: #174EA6;\n",
              "    }\n",
              "\n",
              "    [theme=dark] .colab-df-convert {\n",
              "      background-color: #3B4455;\n",
              "      fill: #D2E3FC;\n",
              "    }\n",
              "\n",
              "    [theme=dark] .colab-df-convert:hover {\n",
              "      background-color: #434B5C;\n",
              "      box-shadow: 0px 1px 3px 1px rgba(0, 0, 0, 0.15);\n",
              "      filter: drop-shadow(0px 1px 2px rgba(0, 0, 0, 0.3));\n",
              "      fill: #FFFFFF;\n",
              "    }\n",
              "  </style>\n",
              "\n",
              "      <script>\n",
              "        const buttonEl =\n",
              "          document.querySelector('#df-2f8b6a30-2935-46b0-b98b-3cd1208b5173 button.colab-df-convert');\n",
              "        buttonEl.style.display =\n",
              "          google.colab.kernel.accessAllowed ? 'block' : 'none';\n",
              "\n",
              "        async function convertToInteractive(key) {\n",
              "          const element = document.querySelector('#df-2f8b6a30-2935-46b0-b98b-3cd1208b5173');\n",
              "          const dataTable =\n",
              "            await google.colab.kernel.invokeFunction('convertToInteractive',\n",
              "                                                     [key], {});\n",
              "          if (!dataTable) return;\n",
              "\n",
              "          const docLinkHtml = 'Like what you see? Visit the ' +\n",
              "            '<a target=\"_blank\" href=https://colab.research.google.com/notebooks/data_table.ipynb>data table notebook</a>'\n",
              "            + ' to learn more about interactive tables.';\n",
              "          element.innerHTML = '';\n",
              "          dataTable['output_type'] = 'display_data';\n",
              "          await google.colab.output.renderOutput(dataTable, element);\n",
              "          const docLink = document.createElement('div');\n",
              "          docLink.innerHTML = docLinkHtml;\n",
              "          element.appendChild(docLink);\n",
              "        }\n",
              "      </script>\n",
              "    </div>\n",
              "  </div>\n",
              "  "
            ]
          },
          "metadata": {},
          "execution_count": 64
        }
      ]
    },
    {
      "cell_type": "code",
      "source": [
        "data3.drop(index = 65695, inplace = True)"
      ],
      "metadata": {
        "id": "EvgRO0cdS_x6"
      },
      "execution_count": 65,
      "outputs": []
    },
    {
      "cell_type": "code",
      "source": [
        "data3.shape"
      ],
      "metadata": {
        "colab": {
          "base_uri": "https://localhost:8080/"
        },
        "id": "H9xc5sX2S_qs",
        "outputId": "490ba1c9-982f-452f-f369-e96bc4675892"
      },
      "execution_count": 66,
      "outputs": [
        {
          "output_type": "execute_result",
          "data": {
            "text/plain": [
              "(109999, 11)"
            ]
          },
          "metadata": {},
          "execution_count": 66
        }
      ]
    },
    {
      "cell_type": "code",
      "source": [
        "#Verificar se a base é balanceada\n",
        "data3.inadimplente.value_counts()"
      ],
      "metadata": {
        "colab": {
          "base_uri": "https://localhost:8080/"
        },
        "id": "MKBM564ZS_mh",
        "outputId": "ec2516f7-1105-4d3f-9502-e763bc9e93f9"
      },
      "execution_count": 67,
      "outputs": [
        {
          "output_type": "execute_result",
          "data": {
            "text/plain": [
              "0    102668\n",
              "1      7331\n",
              "Name: inadimplente, dtype: int64"
            ]
          },
          "metadata": {},
          "execution_count": 67
        }
      ]
    },
    {
      "cell_type": "markdown",
      "source": [
        "####Correlação"
      ],
      "metadata": {
        "id": "GRF6GmQSKRde"
      }
    },
    {
      "cell_type": "code",
      "source": [
        "#Correlação entre as variáveis independentes. \n",
        "plt.figure(figsize=(10,10))\n",
        "sns.heatmap(data3.corr(), annot=True)\n",
        "plt.show()"
      ],
      "metadata": {
        "colab": {
          "base_uri": "https://localhost:8080/",
          "height": 800
        },
        "id": "GVpRto2ITyOo",
        "outputId": "0a4cf0aa-ae4a-4630-d3a5-c1d7b960a744"
      },
      "execution_count": 68,
      "outputs": [
        {
          "output_type": "display_data",
          "data": {
            "text/plain": [
              "<Figure size 720x720 with 2 Axes>"
            ],
            "image/png": "[encoded data removed]"
          },
          "metadata": {
            "needs_background": "light"
          }
        }
      ]
    },
    {
      "cell_type": "markdown",
      "source": [
        "###Balanceamento da base"
      ],
      "metadata": {
        "id": "9j7k_slnJCWs"
      }
    },
    {
      "cell_type": "code",
      "source": [
        "#Reduzir as observações de adimplentes de forma aleatória\n",
        "df3_class_0 = data3[data3['inadimplente'] == 0]\n",
        "df3_class_1 = data3[data3['inadimplente'] == 1]\n",
        "df3_class_0_under = df3_class_0.sample(7331)\n",
        "df3_test_under = pd.concat([df3_class_0_under, df3_class_1], axis=0)"
      ],
      "metadata": {
        "id": "lDcV6m8MTyLY"
      },
      "execution_count": 69,
      "outputs": []
    },
    {
      "cell_type": "code",
      "source": [
        "df3_test_under.shape"
      ],
      "metadata": {
        "colab": {
          "base_uri": "https://localhost:8080/"
        },
        "id": "paDIKw0DTyIg",
        "outputId": "c7c3ce0c-abf0-45d7-e1fc-5fde7d1cf6c4"
      },
      "execution_count": 70,
      "outputs": [
        {
          "output_type": "execute_result",
          "data": {
            "text/plain": [
              "(14662, 11)"
            ]
          },
          "metadata": {},
          "execution_count": 70
        }
      ]
    },
    {
      "cell_type": "code",
      "source": [
        "from sklearn.preprocessing import MinMaxScaler\n",
        "norm3 = MinMaxScaler()\n",
        "dtnorm3 = norm3.fit_transform(df3_test_under)\n",
        "datanorm3 = pd.DataFrame(dtnorm3, columns = df3_test_under.columns)"
      ],
      "metadata": {
        "id": "BXNdLIiKTyFR"
      },
      "execution_count": 71,
      "outputs": []
    },
    {
      "cell_type": "code",
      "source": [
        "#Separação das variáveis explicativas e resposta\n",
        "y3 = datanorm3['inadimplente']\n",
        "x3 = datanorm3.drop(columns=['inadimplente'],axis=1)"
      ],
      "metadata": {
        "id": "cstgR6X_TyCK"
      },
      "execution_count": 72,
      "outputs": []
    },
    {
      "cell_type": "code",
      "source": [
        "scores3 = SelectKBest(score_func=f_classif, k=\"all\")\n",
        "c = scores3.fit_transform(x3,y3)\n",
        "sco3 = pd.DataFrame(columns = ['var', 'score', 'porcentagem'], index=range(10))\n",
        "for i in range(10):\n",
        "  sco3.iloc[i] = [scores3.feature_names_in_[i],scores3.scores_[i], \n",
        "                  (scores3.scores_[i]/sum(scores3.scores_))*100]\n",
        "sco3.sort_values(by = 'score', ascending = False)"
      ],
      "metadata": {
        "colab": {
          "base_uri": "https://localhost:8080/",
          "height": 363
        },
        "id": "4Qj2Sg9UTx_B",
        "outputId": "8f8105dd-d61e-4462-f972-f9b58812d2df"
      },
      "execution_count": 73,
      "outputs": [
        {
          "output_type": "execute_result",
          "data": {
            "text/plain": [
              "                                     var       score porcentagem\n",
              "1                                  idade  857.031394   54.214657\n",
              "2             vezes_passou_de_30_59_dias  201.739193   12.761751\n",
              "6            numero_vezes_passou_90_dias  172.281328   10.898286\n",
              "8  numero_de_vezes_que_passou_60_89_dias  129.637925    8.200721\n",
              "9                  numero_de_dependentes  118.405389    7.490166\n",
              "4                         salario_mensal   53.956896    3.413241\n",
              "5             numero_linhas_crdto_aberto   42.063446    2.660877\n",
              "7        numero_emprestimos_imobiliarios     2.88928    0.182772\n",
              "3                           razao_debito    2.320024    0.146762\n",
              "0                  util_linhas_inseguras    0.486377    0.030768"
            ],
            "text/html": [
              "\n",
              "  <div id=\"df-9824a10d-a0a5-4580-b95f-0e69729b60fe\">\n",
              "    <div class=\"colab-df-container\">\n",
              "      <div>\n",
              "<style scoped>\n",
              "    .dataframe tbody tr th:only-of-type {\n",
              "        vertical-align: middle;\n",
              "    }\n",
              "\n",
              "    .dataframe tbody tr th {\n",
              "        vertical-align: top;\n",
              "    }\n",
              "\n",
              "    .dataframe thead th {\n",
              "        text-align: right;\n",
              "    }\n",
              "</style>\n",
              "<table border=\"1\" class=\"dataframe\">\n",
              "  <thead>\n",
              "    <tr style=\"text-align: right;\">\n",
              "      <th></th>\n",
              "      <th>var</th>\n",
              "      <th>score</th>\n",
              "      <th>porcentagem</th>\n",
              "    </tr>\n",
              "  </thead>\n",
              "  <tbody>\n",
              "    <tr>\n",
              "      <th>1</th>\n",
              "      <td>idade</td>\n",
              "      <td>857.031394</td>\n",
              "      <td>54.214657</td>\n",
              "    </tr>\n",
              "    <tr>\n",
              "      <th>2</th>\n",
              "      <td>vezes_passou_de_30_59_dias</td>\n",
              "      <td>201.739193</td>\n",
              "      <td>12.761751</td>\n",
              "    </tr>\n",
              "    <tr>\n",
              "      <th>6</th>\n",
              "      <td>numero_vezes_passou_90_dias</td>\n",
              "      <td>172.281328</td>\n",
              "      <td>10.898286</td>\n",
              "    </tr>\n",
              "    <tr>\n",
              "      <th>8</th>\n",
              "      <td>numero_de_vezes_que_passou_60_89_dias</td>\n",
              "      <td>129.637925</td>\n",
              "      <td>8.200721</td>\n",
              "    </tr>\n",
              "    <tr>\n",
              "      <th>9</th>\n",
              "      <td>numero_de_dependentes</td>\n",
              "      <td>118.405389</td>\n",
              "      <td>7.490166</td>\n",
              "    </tr>\n",
              "    <tr>\n",
              "      <th>4</th>\n",
              "      <td>salario_mensal</td>\n",
              "      <td>53.956896</td>\n",
              "      <td>3.413241</td>\n",
              "    </tr>\n",
              "    <tr>\n",
              "      <th>5</th>\n",
              "      <td>numero_linhas_crdto_aberto</td>\n",
              "      <td>42.063446</td>\n",
              "      <td>2.660877</td>\n",
              "    </tr>\n",
              "    <tr>\n",
              "      <th>7</th>\n",
              "      <td>numero_emprestimos_imobiliarios</td>\n",
              "      <td>2.88928</td>\n",
              "      <td>0.182772</td>\n",
              "    </tr>\n",
              "    <tr>\n",
              "      <th>3</th>\n",
              "      <td>razao_debito</td>\n",
              "      <td>2.320024</td>\n",
              "      <td>0.146762</td>\n",
              "    </tr>\n",
              "    <tr>\n",
              "      <th>0</th>\n",
              "      <td>util_linhas_inseguras</td>\n",
              "      <td>0.486377</td>\n",
              "      <td>0.030768</td>\n",
              "    </tr>\n",
              "  </tbody>\n",
              "</table>\n",
              "</div>\n",
              "      <button class=\"colab-df-convert\" onclick=\"convertToInteractive('df-9824a10d-a0a5-4580-b95f-0e69729b60fe')\"\n",
              "              title=\"Convert this dataframe to an interactive table.\"\n",
              "              style=\"display:none;\">\n",
              "        \n",
              "  <svg xmlns=\"http://www.w3.org/2000/svg\" height=\"24px\"viewBox=\"0 0 24 24\"\n",
              "       width=\"24px\">\n",
              "    <path d=\"M0 0h24v24H0V0z\" fill=\"none\"/>\n",
              "    <path d=\"M18.56 5.44l.94 2.06.94-2.06 2.06-.94-2.06-.94-.94-2.06-.94 2.06-2.06.94zm-11 1L8.5 8.5l.94-2.06 2.06-.94-2.06-.94L8.5 2.5l-.94 2.06-2.06.94zm10 10l.94 2.06.94-2.06 2.06-.94-2.06-.94-.94-2.06-.94 2.06-2.06.94z\"/><path d=\"M17.41 7.96l-1.37-1.37c-.4-.4-.92-.59-1.43-.59-.52 0-1.04.2-1.43.59L10.3 9.45l-7.72 7.72c-.78.78-.78 2.05 0 2.83L4 21.41c.39.39.9.59 1.41.59.51 0 1.02-.2 1.41-.59l7.78-7.78 2.81-2.81c.8-.78.8-2.07 0-2.86zM5.41 20L4 18.59l7.72-7.72 1.47 1.35L5.41 20z\"/>\n",
              "  </svg>\n",
              "      </button>\n",
              "      \n",
              "  <style>\n",
              "    .colab-df-container {\n",
              "      display:flex;\n",
              "      flex-wrap:wrap;\n",
              "      gap: 12px;\n",
              "    }\n",
              "\n",
              "    .colab-df-convert {\n",
              "      background-color: #E8F0FE;\n",
              "      border: none;\n",
              "      border-radius: 50%;\n",
              "      cursor: pointer;\n",
              "      display: none;\n",
              "      fill: #1967D2;\n",
              "      height: 32px;\n",
              "      padding: 0 0 0 0;\n",
              "      width: 32px;\n",
              "    }\n",
              "\n",
              "    .colab-df-convert:hover {\n",
              "      background-color: #E2EBFA;\n",
              "      box-shadow: 0px 1px 2px rgba(60, 64, 67, 0.3), 0px 1px 3px 1px rgba(60, 64, 67, 0.15);\n",
              "      fill: #174EA6;\n",
              "    }\n",
              "\n",
              "    [theme=dark] .colab-df-convert {\n",
              "      background-color: #3B4455;\n",
              "      fill: #D2E3FC;\n",
              "    }\n",
              "\n",
              "    [theme=dark] .colab-df-convert:hover {\n",
              "      background-color: #434B5C;\n",
              "      box-shadow: 0px 1px 3px 1px rgba(0, 0, 0, 0.15);\n",
              "      filter: drop-shadow(0px 1px 2px rgba(0, 0, 0, 0.3));\n",
              "      fill: #FFFFFF;\n",
              "    }\n",
              "  </style>\n",
              "\n",
              "      <script>\n",
              "        const buttonEl =\n",
              "          document.querySelector('#df-9824a10d-a0a5-4580-b95f-0e69729b60fe button.colab-df-convert');\n",
              "        buttonEl.style.display =\n",
              "          google.colab.kernel.accessAllowed ? 'block' : 'none';\n",
              "\n",
              "        async function convertToInteractive(key) {\n",
              "          const element = document.querySelector('#df-9824a10d-a0a5-4580-b95f-0e69729b60fe');\n",
              "          const dataTable =\n",
              "            await google.colab.kernel.invokeFunction('convertToInteractive',\n",
              "                                                     [key], {});\n",
              "          if (!dataTable) return;\n",
              "\n",
              "          const docLinkHtml = 'Like what you see? Visit the ' +\n",
              "            '<a target=\"_blank\" href=https://colab.research.google.com/notebooks/data_table.ipynb>data table notebook</a>'\n",
              "            + ' to learn more about interactive tables.';\n",
              "          element.innerHTML = '';\n",
              "          dataTable['output_type'] = 'display_data';\n",
              "          await google.colab.output.renderOutput(dataTable, element);\n",
              "          const docLink = document.createElement('div');\n",
              "          docLink.innerHTML = docLinkHtml;\n",
              "          element.appendChild(docLink);\n",
              "        }\n",
              "      </script>\n",
              "    </div>\n",
              "  </div>\n",
              "  "
            ]
          },
          "metadata": {},
          "execution_count": 73
        }
      ]
    },
    {
      "cell_type": "markdown",
      "source": [
        "###Modelo"
      ],
      "metadata": {
        "id": "cz_xM0hDJL_Z"
      }
    },
    {
      "cell_type": "markdown",
      "source": [
        "####Testagem de hiperparâmetros do modelo3 com RandomForest com todas as variáveis"
      ],
      "metadata": {
        "id": "hWddf52kJVdG"
      }
    },
    {
      "cell_type": "code",
      "source": [
        "#Testagem de hiperparâmetros do modelo\n",
        "min_samples_split = [2,3,5,7,9,11,13,15,17]\n",
        "max_depth = [2,3,5,7,9,11,13,15,17]\n",
        "min_samples_leaf = [2,3,4,5,7,9]\n",
        "valores = {'min_samples_split':min_samples_split,\n",
        "           'max_depth':max_depth,\n",
        "           'min_samples_leaf':min_samples_leaf}\n",
        "\n",
        "modelo3 = RandomForestClassifier(n_estimators=50,\n",
        "                                 n_jobs=-1)\n",
        "\n",
        "search = RandomizedSearchCV(estimator=modelo3,\n",
        "                            param_distributions=valores,\n",
        "                            cv=kfold, n_iter=50,\n",
        "                            n_jobs=-1)\n",
        "search.fit(x3,y3)\n",
        "print(search.best_score_,\n",
        "      search.best_estimator_.min_samples_split,\n",
        "      search.best_estimator_.max_depth,\n",
        "      search.best_estimator_.min_samples_leaf)"
      ],
      "metadata": {
        "colab": {
          "base_uri": "https://localhost:8080/"
        },
        "id": "1jI98Ne-Tx1g",
        "outputId": "a930bd5a-c44f-472b-a394-d9c69dc69f4f"
      },
      "execution_count": 74,
      "outputs": [
        {
          "output_type": "stream",
          "name": "stdout",
          "text": [
            "0.789182418255082 15 13 3\n"
          ]
        }
      ]
    },
    {
      "cell_type": "markdown",
      "source": [
        "####Testagem de hiperparâmetros do modelo3 com AdaBoost com todas as variáveis"
      ],
      "metadata": {
        "id": "oDXDVnr6JYW2"
      }
    },
    {
      "cell_type": "code",
      "source": [
        "#Testagem de hiperparâmetros do modelo\n",
        "n_estimators = [50,100,200]\n",
        "learning_rate = [0.1,0.2,0.3,0.5,0.7,0.9]\n",
        "valores = {'n_estimators':n_estimators,\n",
        "           'learning_rate':learning_rate}\n",
        "\n",
        "modelo3_ada = AdaBoostClassifier()\n",
        "\n",
        "search = RandomizedSearchCV(estimator=modelo3_ada,\n",
        "                            param_distributions=valores,\n",
        "                            cv=kfold,\n",
        "                            n_iter=min(len(n_estimators)*len(learning_rate),50),\n",
        "                            n_jobs=-1)\n",
        "search.fit(x3,y3)\n",
        "print(search.best_score_,\n",
        "      search.best_estimator_.n_estimators,\n",
        "      search.best_estimator_.learning_rate)"
      ],
      "metadata": {
        "colab": {
          "base_uri": "https://localhost:8080/"
        },
        "id": "MTzsxDqaUrda",
        "outputId": "cb5cdd17-51e3-4c38-b08b-5e535032f72f"
      },
      "execution_count": 75,
      "outputs": [
        {
          "output_type": "stream",
          "name": "stdout",
          "text": [
            "0.7803838942382607 50 0.5\n"
          ]
        }
      ]
    },
    {
      "cell_type": "markdown",
      "source": [
        "O melhor modelo no caso em que substituimos os valores faltantes da coluna salario_mensal foi o RandomForest, atingindo a acurácia de 0.78918, com os parâmetros min_samples_split=15, max_depth=13 e min_samples_leaf=3, sendo também o melhor modelo encontrado."
      ],
      "metadata": {
        "id": "d2jIuVh9Vc1d"
      }
    },
    {
      "cell_type": "markdown",
      "source": [
        "##Predição na base de teste"
      ],
      "metadata": {
        "id": "GjWbp7xSVtGh"
      }
    },
    {
      "cell_type": "markdown",
      "source": [
        "###Verificação da base de dados de teste"
      ],
      "metadata": {
        "id": "C9zQcxaKJlem"
      }
    },
    {
      "cell_type": "code",
      "source": [
        "#Importação dos dados de teste\n",
        "teste = pd.read_csv('teste.csv')\n",
        "teste.shape"
      ],
      "metadata": {
        "colab": {
          "base_uri": "https://localhost:8080/"
        },
        "id": "Gway5AiMp77Q",
        "outputId": "17b81b9d-2828-4027-a4fb-026ad9b801b3"
      },
      "execution_count": 95,
      "outputs": [
        {
          "output_type": "execute_result",
          "data": {
            "text/plain": [
              "(40000, 10)"
            ]
          },
          "metadata": {},
          "execution_count": 95
        }
      ]
    },
    {
      "cell_type": "code",
      "source": [
        "teste.head(3)"
      ],
      "metadata": {
        "colab": {
          "base_uri": "https://localhost:8080/",
          "height": 207
        },
        "id": "snHj2b3EMrdB",
        "outputId": "8931d29f-fc47-4efa-c555-73bbf956ba79"
      },
      "execution_count": 96,
      "outputs": [
        {
          "output_type": "execute_result",
          "data": {
            "text/plain": [
              "   util_linhas_inseguras  idade  vezes_passou_de_30_59_dias  razao_debito  \\\n",
              "0               0.025849     62                           0      0.081775   \n",
              "1               0.667083     55                           0      0.153112   \n",
              "2               0.007093     44                           0      0.148800   \n",
              "\n",
              "   salario_mensal  numero_linhas_crdto_aberto  numero_vezes_passou_90_dias  \\\n",
              "0          8180.0                           3                            0   \n",
              "1          2200.0                           3                            0   \n",
              "2          7499.0                          20                            0   \n",
              "\n",
              "   numero_emprestimos_imobiliarios  numero_de_vezes_que_passou_60_89_dias  \\\n",
              "0                                2                                      0   \n",
              "1                                0                                      0   \n",
              "2                                1                                      0   \n",
              "\n",
              "   numero_de_dependentes  \n",
              "0                    0.0  \n",
              "1                    0.0  \n",
              "2                    0.0  "
            ],
            "text/html": [
              "\n",
              "  <div id=\"df-09f1593e-bc97-4751-9f8b-d024fc2c0cc8\">\n",
              "    <div class=\"colab-df-container\">\n",
              "      <div>\n",
              "<style scoped>\n",
              "    .dataframe tbody tr th:only-of-type {\n",
              "        vertical-align: middle;\n",
              "    }\n",
              "\n",
              "    .dataframe tbody tr th {\n",
              "        vertical-align: top;\n",
              "    }\n",
              "\n",
              "    .dataframe thead th {\n",
              "        text-align: right;\n",
              "    }\n",
              "</style>\n",
              "<table border=\"1\" class=\"dataframe\">\n",
              "  <thead>\n",
              "    <tr style=\"text-align: right;\">\n",
              "      <th></th>\n",
              "      <th>util_linhas_inseguras</th>\n",
              "      <th>idade</th>\n",
              "      <th>vezes_passou_de_30_59_dias</th>\n",
              "      <th>razao_debito</th>\n",
              "      <th>salario_mensal</th>\n",
              "      <th>numero_linhas_crdto_aberto</th>\n",
              "      <th>numero_vezes_passou_90_dias</th>\n",
              "      <th>numero_emprestimos_imobiliarios</th>\n",
              "      <th>numero_de_vezes_que_passou_60_89_dias</th>\n",
              "      <th>numero_de_dependentes</th>\n",
              "    </tr>\n",
              "  </thead>\n",
              "  <tbody>\n",
              "    <tr>\n",
              "      <th>0</th>\n",
              "      <td>0.025849</td>\n",
              "      <td>62</td>\n",
              "      <td>0</td>\n",
              "      <td>0.081775</td>\n",
              "      <td>8180.0</td>\n",
              "      <td>3</td>\n",
              "      <td>0</td>\n",
              "      <td>2</td>\n",
              "      <td>0</td>\n",
              "      <td>0.0</td>\n",
              "    </tr>\n",
              "    <tr>\n",
              "      <th>1</th>\n",
              "      <td>0.667083</td>\n",
              "      <td>55</td>\n",
              "      <td>0</td>\n",
              "      <td>0.153112</td>\n",
              "      <td>2200.0</td>\n",
              "      <td>3</td>\n",
              "      <td>0</td>\n",
              "      <td>0</td>\n",
              "      <td>0</td>\n",
              "      <td>0.0</td>\n",
              "    </tr>\n",
              "    <tr>\n",
              "      <th>2</th>\n",
              "      <td>0.007093</td>\n",
              "      <td>44</td>\n",
              "      <td>0</td>\n",
              "      <td>0.148800</td>\n",
              "      <td>7499.0</td>\n",
              "      <td>20</td>\n",
              "      <td>0</td>\n",
              "      <td>1</td>\n",
              "      <td>0</td>\n",
              "      <td>0.0</td>\n",
              "    </tr>\n",
              "  </tbody>\n",
              "</table>\n",
              "</div>\n",
              "      <button class=\"colab-df-convert\" onclick=\"convertToInteractive('df-09f1593e-bc97-4751-9f8b-d024fc2c0cc8')\"\n",
              "              title=\"Convert this dataframe to an interactive table.\"\n",
              "              style=\"display:none;\">\n",
              "        \n",
              "  <svg xmlns=\"http://www.w3.org/2000/svg\" height=\"24px\"viewBox=\"0 0 24 24\"\n",
              "       width=\"24px\">\n",
              "    <path d=\"M0 0h24v24H0V0z\" fill=\"none\"/>\n",
              "    <path d=\"M18.56 5.44l.94 2.06.94-2.06 2.06-.94-2.06-.94-.94-2.06-.94 2.06-2.06.94zm-11 1L8.5 8.5l.94-2.06 2.06-.94-2.06-.94L8.5 2.5l-.94 2.06-2.06.94zm10 10l.94 2.06.94-2.06 2.06-.94-2.06-.94-.94-2.06-.94 2.06-2.06.94z\"/><path d=\"M17.41 7.96l-1.37-1.37c-.4-.4-.92-.59-1.43-.59-.52 0-1.04.2-1.43.59L10.3 9.45l-7.72 7.72c-.78.78-.78 2.05 0 2.83L4 21.41c.39.39.9.59 1.41.59.51 0 1.02-.2 1.41-.59l7.78-7.78 2.81-2.81c.8-.78.8-2.07 0-2.86zM5.41 20L4 18.59l7.72-7.72 1.47 1.35L5.41 20z\"/>\n",
              "  </svg>\n",
              "      </button>\n",
              "      \n",
              "  <style>\n",
              "    .colab-df-container {\n",
              "      display:flex;\n",
              "      flex-wrap:wrap;\n",
              "      gap: 12px;\n",
              "    }\n",
              "\n",
              "    .colab-df-convert {\n",
              "      background-color: #E8F0FE;\n",
              "      border: none;\n",
              "      border-radius: 50%;\n",
              "      cursor: pointer;\n",
              "      display: none;\n",
              "      fill: #1967D2;\n",
              "      height: 32px;\n",
              "      padding: 0 0 0 0;\n",
              "      width: 32px;\n",
              "    }\n",
              "\n",
              "    .colab-df-convert:hover {\n",
              "      background-color: #E2EBFA;\n",
              "      box-shadow: 0px 1px 2px rgba(60, 64, 67, 0.3), 0px 1px 3px 1px rgba(60, 64, 67, 0.15);\n",
              "      fill: #174EA6;\n",
              "    }\n",
              "\n",
              "    [theme=dark] .colab-df-convert {\n",
              "      background-color: #3B4455;\n",
              "      fill: #D2E3FC;\n",
              "    }\n",
              "\n",
              "    [theme=dark] .colab-df-convert:hover {\n",
              "      background-color: #434B5C;\n",
              "      box-shadow: 0px 1px 3px 1px rgba(0, 0, 0, 0.15);\n",
              "      filter: drop-shadow(0px 1px 2px rgba(0, 0, 0, 0.3));\n",
              "      fill: #FFFFFF;\n",
              "    }\n",
              "  </style>\n",
              "\n",
              "      <script>\n",
              "        const buttonEl =\n",
              "          document.querySelector('#df-09f1593e-bc97-4751-9f8b-d024fc2c0cc8 button.colab-df-convert');\n",
              "        buttonEl.style.display =\n",
              "          google.colab.kernel.accessAllowed ? 'block' : 'none';\n",
              "\n",
              "        async function convertToInteractive(key) {\n",
              "          const element = document.querySelector('#df-09f1593e-bc97-4751-9f8b-d024fc2c0cc8');\n",
              "          const dataTable =\n",
              "            await google.colab.kernel.invokeFunction('convertToInteractive',\n",
              "                                                     [key], {});\n",
              "          if (!dataTable) return;\n",
              "\n",
              "          const docLinkHtml = 'Like what you see? Visit the ' +\n",
              "            '<a target=\"_blank\" href=https://colab.research.google.com/notebooks/data_table.ipynb>data table notebook</a>'\n",
              "            + ' to learn more about interactive tables.';\n",
              "          element.innerHTML = '';\n",
              "          dataTable['output_type'] = 'display_data';\n",
              "          await google.colab.output.renderOutput(dataTable, element);\n",
              "          const docLink = document.createElement('div');\n",
              "          docLink.innerHTML = docLinkHtml;\n",
              "          element.appendChild(docLink);\n",
              "        }\n",
              "      </script>\n",
              "    </div>\n",
              "  </div>\n",
              "  "
            ]
          },
          "metadata": {},
          "execution_count": 96
        }
      ]
    },
    {
      "cell_type": "code",
      "source": [
        "teste.columns"
      ],
      "metadata": {
        "colab": {
          "base_uri": "https://localhost:8080/"
        },
        "id": "GPClkPVNM0p9",
        "outputId": "986d8780-e4cf-4d5e-ad18-202331cf3674"
      },
      "execution_count": 97,
      "outputs": [
        {
          "output_type": "execute_result",
          "data": {
            "text/plain": [
              "Index(['util_linhas_inseguras', 'idade', 'vezes_passou_de_30_59_dias',\n",
              "       'razao_debito', 'salario_mensal', 'numero_linhas_crdto_aberto',\n",
              "       'numero_vezes_passou_90_dias', 'numero_emprestimos_imobiliarios',\n",
              "       'numero_de_vezes_que_passou_60_89_dias', 'numero_de_dependentes'],\n",
              "      dtype='object')"
            ]
          },
          "metadata": {},
          "execution_count": 97
        }
      ]
    },
    {
      "cell_type": "code",
      "source": [
        "#Verificação dos tipos dos dados\n",
        "teste.dtypes"
      ],
      "metadata": {
        "colab": {
          "base_uri": "https://localhost:8080/"
        },
        "id": "kU1jfyPwM1mg",
        "outputId": "04d3e165-5793-4200-dadb-67f51e122acc"
      },
      "execution_count": 98,
      "outputs": [
        {
          "output_type": "execute_result",
          "data": {
            "text/plain": [
              "util_linhas_inseguras                    float64\n",
              "idade                                      int64\n",
              "vezes_passou_de_30_59_dias                 int64\n",
              "razao_debito                             float64\n",
              "salario_mensal                           float64\n",
              "numero_linhas_crdto_aberto                 int64\n",
              "numero_vezes_passou_90_dias                int64\n",
              "numero_emprestimos_imobiliarios            int64\n",
              "numero_de_vezes_que_passou_60_89_dias      int64\n",
              "numero_de_dependentes                    float64\n",
              "dtype: object"
            ]
          },
          "metadata": {},
          "execution_count": 98
        }
      ]
    },
    {
      "cell_type": "code",
      "source": [
        "#Verificar se há dados faltantes\n",
        "for col in teste.columns:\n",
        "  print(col, teste[col].isnull().sum())"
      ],
      "metadata": {
        "colab": {
          "base_uri": "https://localhost:8080/"
        },
        "id": "3wCNYonyM3eQ",
        "outputId": "7ca4d33f-e398-4c4c-c58d-4c0fdae36031"
      },
      "execution_count": 99,
      "outputs": [
        {
          "output_type": "stream",
          "name": "stdout",
          "text": [
            "util_linhas_inseguras 0\n",
            "idade 0\n",
            "vezes_passou_de_30_59_dias 0\n",
            "razao_debito 0\n",
            "salario_mensal 7968\n",
            "numero_linhas_crdto_aberto 0\n",
            "numero_vezes_passou_90_dias 0\n",
            "numero_emprestimos_imobiliarios 0\n",
            "numero_de_vezes_que_passou_60_89_dias 0\n",
            "numero_de_dependentes 1046\n"
          ]
        }
      ]
    },
    {
      "cell_type": "markdown",
      "source": [
        "###Substituição dos dados faltantes nas colunas numero_de_dependentes e salario_mensal, conforme executado no modelo selecionado na base de treino."
      ],
      "metadata": {
        "id": "yxJy9THMJs_P"
      }
    },
    {
      "cell_type": "code",
      "source": [
        "teste.salario_mensal = teste.salario_mensal.fillna(\n",
        "                                          teste.salario_mensal.median())\n",
        "teste.numero_de_dependentes = teste.numero_de_dependentes.fillna(\n",
        "                                          teste.numero_de_dependentes.median())"
      ],
      "metadata": {
        "id": "mRISYPyMM-5Z"
      },
      "execution_count": 100,
      "outputs": []
    },
    {
      "cell_type": "code",
      "source": [
        "#Verificar se há dados faltantes\n",
        "for col in teste.columns:\n",
        "  print(col, teste[col].isnull().sum())"
      ],
      "metadata": {
        "colab": {
          "base_uri": "https://localhost:8080/"
        },
        "id": "ONaOgA_GV9gA",
        "outputId": "82cf86ee-8893-4bb0-9ee0-390b9f4d9c41"
      },
      "execution_count": 101,
      "outputs": [
        {
          "output_type": "stream",
          "name": "stdout",
          "text": [
            "util_linhas_inseguras 0\n",
            "idade 0\n",
            "vezes_passou_de_30_59_dias 0\n",
            "razao_debito 0\n",
            "salario_mensal 0\n",
            "numero_linhas_crdto_aberto 0\n",
            "numero_vezes_passou_90_dias 0\n",
            "numero_emprestimos_imobiliarios 0\n",
            "numero_de_vezes_que_passou_60_89_dias 0\n",
            "numero_de_dependentes 0\n"
          ]
        }
      ]
    },
    {
      "cell_type": "code",
      "source": [
        "#Verificar os resumos das variáveis\n",
        "for i in teste.columns:\n",
        "  print(teste[i].describe())"
      ],
      "metadata": {
        "colab": {
          "base_uri": "https://localhost:8080/"
        },
        "id": "ZXhMaCdZYKLc",
        "outputId": "63663921-12f9-47d0-e155-f73569859319"
      },
      "execution_count": 102,
      "outputs": [
        {
          "output_type": "stream",
          "name": "stdout",
          "text": [
            "count    40000.000000\n",
            "mean         6.374199\n",
            "std        242.617247\n",
            "min          0.000000\n",
            "25%          0.029362\n",
            "50%          0.149491\n",
            "75%          0.549762\n",
            "max      22000.000000\n",
            "Name: util_linhas_inseguras, dtype: float64\n",
            "count    40000.000000\n",
            "mean        52.404025\n",
            "std         14.781468\n",
            "min         21.000000\n",
            "25%         41.000000\n",
            "50%         52.000000\n",
            "75%         63.000000\n",
            "max        109.000000\n",
            "Name: idade, dtype: float64\n",
            "count    40000.000000\n",
            "mean         0.412725\n",
            "std          4.057899\n",
            "min          0.000000\n",
            "25%          0.000000\n",
            "50%          0.000000\n",
            "75%          0.000000\n",
            "max         98.000000\n",
            "Name: vezes_passou_de_30_59_dias, dtype: float64\n",
            "count     40000.000000\n",
            "mean        348.004166\n",
            "std        1934.436246\n",
            "min           0.000000\n",
            "25%           0.175360\n",
            "50%           0.366172\n",
            "75%           0.872253\n",
            "max      307001.000000\n",
            "Name: razao_debito, dtype: float64\n",
            "count    4.000000e+04\n",
            "mean     6.491462e+03\n",
            "std      1.507606e+04\n",
            "min      0.000000e+00\n",
            "25%      3.901000e+03\n",
            "50%      5.409500e+03\n",
            "75%      7.416000e+03\n",
            "max      1.794060e+06\n",
            "Name: salario_mensal, dtype: float64\n",
            "count    40000.000000\n",
            "mean         8.472525\n",
            "std          5.164960\n",
            "min          0.000000\n",
            "25%          5.000000\n",
            "50%          8.000000\n",
            "75%         11.000000\n",
            "max         57.000000\n",
            "Name: numero_linhas_crdto_aberto, dtype: float64\n",
            "count    40000.000000\n",
            "mean         0.255025\n",
            "std          4.034327\n",
            "min          0.000000\n",
            "25%          0.000000\n",
            "50%          0.000000\n",
            "75%          0.000000\n",
            "max         98.000000\n",
            "Name: numero_vezes_passou_90_dias, dtype: float64\n",
            "count    40000.000000\n",
            "mean         1.013700\n",
            "std          1.112494\n",
            "min          0.000000\n",
            "25%          0.000000\n",
            "50%          1.000000\n",
            "75%          2.000000\n",
            "max         25.000000\n",
            "Name: numero_emprestimos_imobiliarios, dtype: float64\n",
            "count    40000.000000\n",
            "mean         0.230750\n",
            "std          4.017506\n",
            "min          0.000000\n",
            "25%          0.000000\n",
            "50%          0.000000\n",
            "75%          0.000000\n",
            "max         98.000000\n",
            "Name: numero_de_vezes_que_passou_60_89_dias, dtype: float64\n",
            "count    40000.000000\n",
            "mean         0.736725\n",
            "std          1.108148\n",
            "min          0.000000\n",
            "25%          0.000000\n",
            "50%          0.000000\n",
            "75%          1.000000\n",
            "max         13.000000\n",
            "Name: numero_de_dependentes, dtype: float64\n"
          ]
        }
      ]
    },
    {
      "cell_type": "markdown",
      "source": [
        "####Gráficos"
      ],
      "metadata": {
        "id": "NudoyWgdKFVP"
      }
    },
    {
      "cell_type": "code",
      "source": [
        "#Boxplots\n",
        "fig, axs = plt.subplots(2,5,figsize= (15,6))\n",
        "fig.tight_layout(pad=3.0)\n",
        "colunas = list(data3.columns)\n",
        "colunas = colunas[1:]\n",
        "for i in range(2):\n",
        "  for j in range(5):\n",
        "    axs[i][j].boxplot(x = [data3[colunas[i*5+j]], teste[colunas[i*5+j]]])\n",
        "    axs[i][j].set_title(colunas[i*5+j])"
      ],
      "metadata": {
        "colab": {
          "base_uri": "https://localhost:8080/",
          "height": 415
        },
        "id": "9EZ_VAmYYSqV",
        "outputId": "25e68cd6-45b5-4863-fd1d-ce87086e1c55"
      },
      "execution_count": 103,
      "outputs": [
        {
          "output_type": "display_data",
          "data": {
            "text/plain": [
              "<Figure size 1080x432 with 10 Axes>"
            ],
            "image/png": "[encoded data removed]"
          },
          "metadata": {
            "needs_background": "light"
          }
        }
      ]
    },
    {
      "cell_type": "code",
      "source": [
        "#Histogramas\n",
        "fig, axs = plt.subplots(2,5,figsize= (16,6))\n",
        "fig.tight_layout(pad=3.0)\n",
        "colunas = list(data3.columns)\n",
        "colunas = colunas[1:]\n",
        "for i in range(2):\n",
        "  for j in range(5):\n",
        "    axs[i][j].hist(x = [data3[colunas[i*5+j]], teste[colunas[i*5+j]]], \n",
        "                   bins = 30, density=True)\n",
        "    axs[i][j].set_title(colunas[i*5+j])"
      ],
      "metadata": {
        "colab": {
          "base_uri": "https://localhost:8080/",
          "height": 415
        },
        "id": "Jj3oRJJuYvP4",
        "outputId": "ba2dd496-9878-4365-e662-c3e5bfa54a12"
      },
      "execution_count": 104,
      "outputs": [
        {
          "output_type": "display_data",
          "data": {
            "text/plain": [
              "<Figure size 1152x432 with 10 Axes>"
            ],
            "image/png": "[encoded data removed]"
          },
          "metadata": {
            "needs_background": "light"
          }
        }
      ]
    },
    {
      "cell_type": "markdown",
      "source": [
        "####Normalização"
      ],
      "metadata": {
        "id": "X8_bHgVcSquH"
      }
    },
    {
      "cell_type": "code",
      "source": [
        "from sklearn.preprocessing import MinMaxScaler\n",
        "normteste = MinMaxScaler()\n",
        "dtnormteste = normteste.fit_transform(teste)\n",
        "datanormteste = pd.DataFrame(dtnormteste, columns = teste.columns)"
      ],
      "metadata": {
        "id": "q3f_WaTbSqBm"
      },
      "execution_count": 105,
      "outputs": []
    },
    {
      "cell_type": "markdown",
      "source": [
        "###Modelo e predição"
      ],
      "metadata": {
        "id": "z7OyA5yAJ-JW"
      }
    },
    {
      "cell_type": "code",
      "source": [
        "modelo = RandomForestClassifier(n_estimators=50, \n",
        "                                n_jobs=-1, \n",
        "                                min_samples_split = 15,\n",
        "                                max_depth = 13,\n",
        "                                min_samples_leaf = 3)\n",
        "modelo.fit(x3,y3)"
      ],
      "metadata": {
        "colab": {
          "base_uri": "https://localhost:8080/"
        },
        "id": "fjKo2NQNV_SI",
        "outputId": "35aefc41-7a10-4998-a440-ffd706f69848"
      },
      "execution_count": 106,
      "outputs": [
        {
          "output_type": "execute_result",
          "data": {
            "text/plain": [
              "RandomForestClassifier(max_depth=13, min_samples_leaf=3, min_samples_split=15,\n",
              "                       n_estimators=50, n_jobs=-1)"
            ]
          },
          "metadata": {},
          "execution_count": 106
        }
      ]
    },
    {
      "cell_type": "code",
      "source": [
        "predicao = modelo.predict(datanormteste)\n",
        "predicao"
      ],
      "metadata": {
        "colab": {
          "base_uri": "https://localhost:8080/"
        },
        "id": "5-n6ovLhWrmw",
        "outputId": "af57be18-81ff-4c42-c6f7-1ba0b69ba675"
      },
      "execution_count": 107,
      "outputs": [
        {
          "output_type": "execute_result",
          "data": {
            "text/plain": [
              "array([0., 0., 0., ..., 1., 1., 1.])"
            ]
          },
          "metadata": {},
          "execution_count": 107
        }
      ]
    },
    {
      "cell_type": "code",
      "source": [
        "teste['inadimplente'] = predicao"
      ],
      "metadata": {
        "id": "tSTDKXdhW0oM"
      },
      "execution_count": 108,
      "outputs": []
    },
    {
      "cell_type": "code",
      "source": [
        "teste.head(5)"
      ],
      "metadata": {
        "colab": {
          "base_uri": "https://localhost:8080/",
          "height": 270
        },
        "id": "iOqv7NbJXRSD",
        "outputId": "8fa322eb-90e6-4f87-e551-c0e9de1d79f4"
      },
      "execution_count": 109,
      "outputs": [
        {
          "output_type": "execute_result",
          "data": {
            "text/plain": [
              "   util_linhas_inseguras  idade  vezes_passou_de_30_59_dias  razao_debito  \\\n",
              "0               0.025849     62                           0      0.081775   \n",
              "1               0.667083     55                           0      0.153112   \n",
              "2               0.007093     44                           0      0.148800   \n",
              "3               0.091213     54                           0      0.351635   \n",
              "4               0.112680     54                           0      0.065959   \n",
              "\n",
              "   salario_mensal  numero_linhas_crdto_aberto  numero_vezes_passou_90_dias  \\\n",
              "0          8180.0                           3                            0   \n",
              "1          2200.0                           3                            0   \n",
              "2          7499.0                          20                            0   \n",
              "3          5900.0                          15                            0   \n",
              "4          2167.0                           3                            0   \n",
              "\n",
              "   numero_emprestimos_imobiliarios  numero_de_vezes_que_passou_60_89_dias  \\\n",
              "0                                2                                      0   \n",
              "1                                0                                      0   \n",
              "2                                1                                      0   \n",
              "3                                1                                      1   \n",
              "4                                0                                      0   \n",
              "\n",
              "   numero_de_dependentes  inadimplente  \n",
              "0                    0.0           0.0  \n",
              "1                    0.0           0.0  \n",
              "2                    0.0           0.0  \n",
              "3                    0.0           1.0  \n",
              "4                    0.0           0.0  "
            ],
            "text/html": [
              "\n",
              "  <div id=\"df-aba9e413-fe2d-4b7d-bd1e-980b26e05f9b\">\n",
              "    <div class=\"colab-df-container\">\n",
              "      <div>\n",
              "<style scoped>\n",
              "    .dataframe tbody tr th:only-of-type {\n",
              "        vertical-align: middle;\n",
              "    }\n",
              "\n",
              "    .dataframe tbody tr th {\n",
              "        vertical-align: top;\n",
              "    }\n",
              "\n",
              "    .dataframe thead th {\n",
              "        text-align: right;\n",
              "    }\n",
              "</style>\n",
              "<table border=\"1\" class=\"dataframe\">\n",
              "  <thead>\n",
              "    <tr style=\"text-align: right;\">\n",
              "      <th></th>\n",
              "      <th>util_linhas_inseguras</th>\n",
              "      <th>idade</th>\n",
              "      <th>vezes_passou_de_30_59_dias</th>\n",
              "      <th>razao_debito</th>\n",
              "      <th>salario_mensal</th>\n",
              "      <th>numero_linhas_crdto_aberto</th>\n",
              "      <th>numero_vezes_passou_90_dias</th>\n",
              "      <th>numero_emprestimos_imobiliarios</th>\n",
              "      <th>numero_de_vezes_que_passou_60_89_dias</th>\n",
              "      <th>numero_de_dependentes</th>\n",
              "      <th>inadimplente</th>\n",
              "    </tr>\n",
              "  </thead>\n",
              "  <tbody>\n",
              "    <tr>\n",
              "      <th>0</th>\n",
              "      <td>0.025849</td>\n",
              "      <td>62</td>\n",
              "      <td>0</td>\n",
              "      <td>0.081775</td>\n",
              "      <td>8180.0</td>\n",
              "      <td>3</td>\n",
              "      <td>0</td>\n",
              "      <td>2</td>\n",
              "      <td>0</td>\n",
              "      <td>0.0</td>\n",
              "      <td>0.0</td>\n",
              "    </tr>\n",
              "    <tr>\n",
              "      <th>1</th>\n",
              "      <td>0.667083</td>\n",
              "      <td>55</td>\n",
              "      <td>0</td>\n",
              "      <td>0.153112</td>\n",
              "      <td>2200.0</td>\n",
              "      <td>3</td>\n",
              "      <td>0</td>\n",
              "      <td>0</td>\n",
              "      <td>0</td>\n",
              "      <td>0.0</td>\n",
              "      <td>0.0</td>\n",
              "    </tr>\n",
              "    <tr>\n",
              "      <th>2</th>\n",
              "      <td>0.007093</td>\n",
              "      <td>44</td>\n",
              "      <td>0</td>\n",
              "      <td>0.148800</td>\n",
              "      <td>7499.0</td>\n",
              "      <td>20</td>\n",
              "      <td>0</td>\n",
              "      <td>1</td>\n",
              "      <td>0</td>\n",
              "      <td>0.0</td>\n",
              "      <td>0.0</td>\n",
              "    </tr>\n",
              "    <tr>\n",
              "      <th>3</th>\n",
              "      <td>0.091213</td>\n",
              "      <td>54</td>\n",
              "      <td>0</td>\n",
              "      <td>0.351635</td>\n",
              "      <td>5900.0</td>\n",
              "      <td>15</td>\n",
              "      <td>0</td>\n",
              "      <td>1</td>\n",
              "      <td>1</td>\n",
              "      <td>0.0</td>\n",
              "      <td>1.0</td>\n",
              "    </tr>\n",
              "    <tr>\n",
              "      <th>4</th>\n",
              "      <td>0.112680</td>\n",
              "      <td>54</td>\n",
              "      <td>0</td>\n",
              "      <td>0.065959</td>\n",
              "      <td>2167.0</td>\n",
              "      <td>3</td>\n",
              "      <td>0</td>\n",
              "      <td>0</td>\n",
              "      <td>0</td>\n",
              "      <td>0.0</td>\n",
              "      <td>0.0</td>\n",
              "    </tr>\n",
              "  </tbody>\n",
              "</table>\n",
              "</div>\n",
              "      <button class=\"colab-df-convert\" onclick=\"convertToInteractive('df-aba9e413-fe2d-4b7d-bd1e-980b26e05f9b')\"\n",
              "              title=\"Convert this dataframe to an interactive table.\"\n",
              "              style=\"display:none;\">\n",
              "        \n",
              "  <svg xmlns=\"http://www.w3.org/2000/svg\" height=\"24px\"viewBox=\"0 0 24 24\"\n",
              "       width=\"24px\">\n",
              "    <path d=\"M0 0h24v24H0V0z\" fill=\"none\"/>\n",
              "    <path d=\"M18.56 5.44l.94 2.06.94-2.06 2.06-.94-2.06-.94-.94-2.06-.94 2.06-2.06.94zm-11 1L8.5 8.5l.94-2.06 2.06-.94-2.06-.94L8.5 2.5l-.94 2.06-2.06.94zm10 10l.94 2.06.94-2.06 2.06-.94-2.06-.94-.94-2.06-.94 2.06-2.06.94z\"/><path d=\"M17.41 7.96l-1.37-1.37c-.4-.4-.92-.59-1.43-.59-.52 0-1.04.2-1.43.59L10.3 9.45l-7.72 7.72c-.78.78-.78 2.05 0 2.83L4 21.41c.39.39.9.59 1.41.59.51 0 1.02-.2 1.41-.59l7.78-7.78 2.81-2.81c.8-.78.8-2.07 0-2.86zM5.41 20L4 18.59l7.72-7.72 1.47 1.35L5.41 20z\"/>\n",
              "  </svg>\n",
              "      </button>\n",
              "      \n",
              "  <style>\n",
              "    .colab-df-container {\n",
              "      display:flex;\n",
              "      flex-wrap:wrap;\n",
              "      gap: 12px;\n",
              "    }\n",
              "\n",
              "    .colab-df-convert {\n",
              "      background-color: #E8F0FE;\n",
              "      border: none;\n",
              "      border-radius: 50%;\n",
              "      cursor: pointer;\n",
              "      display: none;\n",
              "      fill: #1967D2;\n",
              "      height: 32px;\n",
              "      padding: 0 0 0 0;\n",
              "      width: 32px;\n",
              "    }\n",
              "\n",
              "    .colab-df-convert:hover {\n",
              "      background-color: #E2EBFA;\n",
              "      box-shadow: 0px 1px 2px rgba(60, 64, 67, 0.3), 0px 1px 3px 1px rgba(60, 64, 67, 0.15);\n",
              "      fill: #174EA6;\n",
              "    }\n",
              "\n",
              "    [theme=dark] .colab-df-convert {\n",
              "      background-color: #3B4455;\n",
              "      fill: #D2E3FC;\n",
              "    }\n",
              "\n",
              "    [theme=dark] .colab-df-convert:hover {\n",
              "      background-color: #434B5C;\n",
              "      box-shadow: 0px 1px 3px 1px rgba(0, 0, 0, 0.15);\n",
              "      filter: drop-shadow(0px 1px 2px rgba(0, 0, 0, 0.3));\n",
              "      fill: #FFFFFF;\n",
              "    }\n",
              "  </style>\n",
              "\n",
              "      <script>\n",
              "        const buttonEl =\n",
              "          document.querySelector('#df-aba9e413-fe2d-4b7d-bd1e-980b26e05f9b button.colab-df-convert');\n",
              "        buttonEl.style.display =\n",
              "          google.colab.kernel.accessAllowed ? 'block' : 'none';\n",
              "\n",
              "        async function convertToInteractive(key) {\n",
              "          const element = document.querySelector('#df-aba9e413-fe2d-4b7d-bd1e-980b26e05f9b');\n",
              "          const dataTable =\n",
              "            await google.colab.kernel.invokeFunction('convertToInteractive',\n",
              "                                                     [key], {});\n",
              "          if (!dataTable) return;\n",
              "\n",
              "          const docLinkHtml = 'Like what you see? Visit the ' +\n",
              "            '<a target=\"_blank\" href=https://colab.research.google.com/notebooks/data_table.ipynb>data table notebook</a>'\n",
              "            + ' to learn more about interactive tables.';\n",
              "          element.innerHTML = '';\n",
              "          dataTable['output_type'] = 'display_data';\n",
              "          await google.colab.output.renderOutput(dataTable, element);\n",
              "          const docLink = document.createElement('div');\n",
              "          docLink.innerHTML = docLinkHtml;\n",
              "          element.appendChild(docLink);\n",
              "        }\n",
              "      </script>\n",
              "    </div>\n",
              "  </div>\n",
              "  "
            ]
          },
          "metadata": {},
          "execution_count": 109
        }
      ]
    },
    {
      "cell_type": "code",
      "source": [
        "teste.to_csv('testecomprevisoes.csv')"
      ],
      "metadata": {
        "id": "EE4QGdavXSLQ"
      },
      "execution_count": 111,
      "outputs": []
    },
    {
      "cell_type": "code",
      "source": [],
      "metadata": {
        "id": "cxWVBQxGTRyD"
      },
      "execution_count": null,
      "outputs": []
    }
  ]
}